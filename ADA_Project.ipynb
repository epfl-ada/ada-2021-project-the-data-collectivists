{
  "nbformat": 4,
  "nbformat_minor": 0,
  "metadata": {
    "colab": {
      "name": "ADA_Project.ipynb",
      "provenance": [],
      "collapsed_sections": [],
      "toc_visible": true
    },
    "kernelspec": {
      "display_name": "Python 3 (ipykernel)",
      "language": "python",
      "name": "python3"
    },
    "language_info": {
      "codemirror_mode": {
        "name": "ipython",
        "version": 3
      },
      "file_extension": ".py",
      "mimetype": "text/x-python",
      "name": "python",
      "nbconvert_exporter": "python",
      "pygments_lexer": "ipython3",
      "version": "3.8.11"
    }
  },
  "cells": [
    {
      "cell_type": "markdown",
      "metadata": {
        "id": "C4Z_2WLx-E-b"
      },
      "source": [
        "[![Alt Right Community](/img/ALT_RIGHT.jpg)](https://www.jstor.org/stable/26984798?seq=1#metadata_info_tab_contents)"
      ]
    },
    {
      "cell_type": "markdown",
      "metadata": {
        "id": "p8XLEWsHRc-1"
      },
      "source": [
        "# The rise of far-right extremism speech between 2016 and 2020 \n",
        "### Observed through a dataset of quotes from the press, highlighting the evolution of opinions and ideas that shape the past, present, and the future of our society.\n",
        "\n",
        "$$ \\\\ $$\n",
        "\n",
        "Project in Applied Data Analysis (CS-401)\n",
        "\n",
        "*Team members: Camil Hamdane (SV), Clémentine lévy-Fidel (SV), Nathan Fiorellino (SV), Nathan Girard (SV)*\n",
        "\n"
      ]
    },
    {
      "cell_type": "markdown",
      "metadata": {
        "id": "oA_fe4oxWT6p"
      },
      "source": [
        "## 1. How to get started\n",
        "\n",
        "### 1.1 Mount your drive to your notebook\n",
        "\n",
        "It is possible to mount your Google Drive to Colab if you need additional storage or if you need to use files from it. To do that run (click on play button or use keyboard shortcut 'Command/Ctrl+Enter') the following code cell:"
      ]
    },
    {
      "cell_type": "markdown",
      "metadata": {
        "id": "GnFCrSaNQTt5"
      },
      "source": [
        ""
      ]
    },
    {
      "cell_type": "code",
      "metadata": {
        "colab": {
          "base_uri": "https://localhost:8080/"
        },
        "id": "CEcIlRwfWY4C",
        "outputId": "0c43bfc7-3c78-47bb-cbce-942334efff1b"
      },
      "source": [
        "from google.colab import drive\n",
        "drive.mount('/content/drive')"
      ],
      "execution_count": null,
      "outputs": [
        {
          "output_type": "stream",
          "name": "stdout",
          "text": [
            "Drive already mounted at /content/drive; to attempt to forcibly remount, call drive.mount(\"/content/drive\", force_remount=True).\n"
          ]
        }
      ]
    },
    {
      "cell_type": "markdown",
      "metadata": {
        "id": "3Nfr-aXhWbFk"
      },
      "source": [
        " \n",
        "\n",
        "1.   After running the cell, URL will appear.\n",
        "\n",
        "2.   Following this URL, you will be redirected to the page where you need to choose Google Drive account to mount to.\n",
        "\n",
        "3.   You will further be asked to give Google Drive Stream a permission to access the chosen Google account\n",
        "\n",
        "4.   After granting the access, authorization code will be given to you\n",
        "\n",
        "5.   Copy the authorization code into the dedicated textbox in Colab under '*Enter your authorization code:*' writing\n",
        "\n",
        "After copying the authorization code, you should get the message saying '*Mounted at /content/gdrive*'\n",
        "\n",
        "Path to the files from the mounted Drive will then be '/content/drive/MyDrive/'. By opening the Files tab (left sidebar, folder icon) you should also be able to see the accessible files. Now, you can read the data directly from the Google Drive you mounted following the process above. Make sure you mounted the drive to which you saved the shortcut to the Quotebank data. "
      ]
    },
    {
      "cell_type": "markdown",
      "metadata": {
        "id": "U5h9a8vB-E-t"
      },
      "source": [
        "### 1.2 Install the required libraries (*OPTIONAL*)\n",
        "\n",
        "You don't need to perform this step if you have previously installed the libraries ([pandas](https://pandas.pydata.org), [seaborn](https://seaborn.pydata.org), [tld](https://pypi.org/project/tld/)) on an environment."
      ]
    },
    {
      "cell_type": "code",
      "metadata": {
        "id": "5jdM66so-E-u",
        "colab": {
          "base_uri": "https://localhost:8080/"
        },
        "outputId": "e074a1de-ad08-4c5f-c407-ef0e1bc2a606"
      },
      "source": [
        "# Installations\n",
        "!pip install pandas==1.0.5 \n",
        "!pip install seaborn\n",
        "!pip install tld"
      ],
      "execution_count": null,
      "outputs": [
        {
          "output_type": "stream",
          "name": "stdout",
          "text": [
            "Requirement already satisfied: pandas==1.0.5 in /usr/local/lib/python3.7/dist-packages (1.0.5)\n",
            "Requirement already satisfied: numpy>=1.13.3 in /usr/local/lib/python3.7/dist-packages (from pandas==1.0.5) (1.19.5)\n",
            "Requirement already satisfied: pytz>=2017.2 in /usr/local/lib/python3.7/dist-packages (from pandas==1.0.5) (2018.9)\n",
            "Requirement already satisfied: python-dateutil>=2.6.1 in /usr/local/lib/python3.7/dist-packages (from pandas==1.0.5) (2.8.2)\n",
            "Requirement already satisfied: six>=1.5 in /usr/local/lib/python3.7/dist-packages (from python-dateutil>=2.6.1->pandas==1.0.5) (1.15.0)\n",
            "Requirement already satisfied: seaborn in /usr/local/lib/python3.7/dist-packages (0.11.2)\n",
            "Requirement already satisfied: scipy>=1.0 in /usr/local/lib/python3.7/dist-packages (from seaborn) (1.4.1)\n",
            "Requirement already satisfied: pandas>=0.23 in /usr/local/lib/python3.7/dist-packages (from seaborn) (1.0.5)\n",
            "Requirement already satisfied: matplotlib>=2.2 in /usr/local/lib/python3.7/dist-packages (from seaborn) (3.2.2)\n",
            "Requirement already satisfied: numpy>=1.15 in /usr/local/lib/python3.7/dist-packages (from seaborn) (1.19.5)\n",
            "Requirement already satisfied: cycler>=0.10 in /usr/local/lib/python3.7/dist-packages (from matplotlib>=2.2->seaborn) (0.11.0)\n",
            "Requirement already satisfied: python-dateutil>=2.1 in /usr/local/lib/python3.7/dist-packages (from matplotlib>=2.2->seaborn) (2.8.2)\n",
            "Requirement already satisfied: kiwisolver>=1.0.1 in /usr/local/lib/python3.7/dist-packages (from matplotlib>=2.2->seaborn) (1.3.2)\n",
            "Requirement already satisfied: pyparsing!=2.0.4,!=2.1.2,!=2.1.6,>=2.0.1 in /usr/local/lib/python3.7/dist-packages (from matplotlib>=2.2->seaborn) (2.4.7)\n",
            "Requirement already satisfied: pytz>=2017.2 in /usr/local/lib/python3.7/dist-packages (from pandas>=0.23->seaborn) (2018.9)\n",
            "Requirement already satisfied: six>=1.5 in /usr/local/lib/python3.7/dist-packages (from python-dateutil>=2.1->matplotlib>=2.2->seaborn) (1.15.0)\n",
            "Requirement already satisfied: tld in /usr/local/lib/python3.7/dist-packages (0.12.6)\n"
          ]
        }
      ]
    },
    {
      "cell_type": "code",
      "metadata": {
        "id": "_CF2DtMC-E-v"
      },
      "source": [
        "# Imports\n",
        "import os\n",
        "from google.colab import files\n",
        "\n",
        "import pandas as pd\n",
        "import numpy as np\n",
        "import seaborn as sns"
      ],
      "execution_count": null,
      "outputs": []
    },
    {
      "cell_type": "code",
      "metadata": {
        "id": "KRUmuW0b-E-y"
      },
      "source": [
        "# Constants \n",
        "input_path = '/content/drive/MyDrive/Quotebank/quotes-2020.json.bz2'\n",
        "output_path = '/content/drive/MyDrive/EPFL/processed_quotes-2020.csv'\n",
        "\n",
        "min_occurence = 10\n",
        "min_probability = 0.6\n"
      ],
      "execution_count": null,
      "outputs": []
    },
    {
      "cell_type": "markdown",
      "metadata": {
        "id": "cKUy29h68N0J"
      },
      "source": [
        "## 2. Preprocessing\n",
        "\n"
      ]
    },
    {
      "cell_type": "markdown",
      "metadata": {
        "id": "DK4YmTdA9wmY"
      },
      "source": [
        "### 2.1 Extraction of the data"
      ]
    },
    {
      "cell_type": "markdown",
      "metadata": {
        "id": "2V67aCknDjgY"
      },
      "source": [
        "In this section, we extract the data and preprocess it, such that we can better conduct our analysis. The Data exploration brought us to choose the following filtering steps:\n",
        "\n",
        "- Remove quotes with low numOccurences (less than **10**),\n",
        "- Filter for samples with only **1** QID,\n",
        "- Keep quotes whose probability is higher than **0.6**\n",
        "- Remove **\"phase\"** feature of the dataframe\n",
        "\n",
        "Pre-processing steps that we have not added yet but which we woul like to add in the future:\n",
        "- Remove news outlets relaying less than a certain number of quotes, as they do not contribute to reflecting global trends.\n",
        "\n",
        "Because of the huge size of the data and the limited capacity of the RAM provided by Google, we decided to process the data **per year**. In addition, chunks of data (per year) are processed sequentially to avoid exceed storage capacity. This preprocessing pipeline filters most of the data, such that **approximately 4%** of the initial data remains at the end. We obtain therefore clean and usable data for further analysis, stored in files named *\"processed_quotes-20XX.csv\"*, for each year. "
      ]
    },
    {
      "cell_type": "code",
      "metadata": {
        "id": "aHMv0FD0Eh_W"
      },
      "source": [
        "# Definition of helper functions\n",
        "\n",
        "def clean_chunk(chunk):\n",
        "    \"\"\" \n",
        "        Cleans dataset chunk by removing unattributed quotes (quotes whose most probable speaker is unknown) or quotes whose speaker name is associated with more \n",
        "        than 1 alias removes 'probas' column and keep only quotes whose speaker probability is greater than 0.6 removes 'phase' column.\n",
        "    \"\"\"          \n",
        "    chunk_clean = chunk.copy()\n",
        "    \n",
        "    # Filtering for samples containing exactly one QIDs\n",
        "    chunk_clean = chunk_clean.loc[chunk[chunk['qids'].map(len) == 1].index]\n",
        "    chunk_clean['qids'] = chunk_clean['qids'].apply(lambda qids: qids[0])\n",
        "    \n",
        "    # Remove samples with more than 1 speaker \n",
        "    if chunk_clean['probas'].dtype != 'float64': # In case the 'probas' column has already been pre-processed\n",
        "        chunk_clean['probas'] = chunk_clean['probas'].apply(lambda probas: float(probas[0][1]))\n",
        "    \n",
        "    chunk_clean = chunk_clean[chunk_clean['probas'] > min_probability]\n",
        "    \n",
        "    # Remove Samples with low numOccurences\n",
        "    chunk_clean = chunk_clean[chunk_clean['numOccurrences'] > min_occurence]\n",
        "    \n",
        "    # Removing phase feature\n",
        "    if 'phase' in chunk_clean: # In case the 'phase' column has already been pre-processed\n",
        "        chunk_clean = chunk_clean.drop('phase', axis = 1)\n",
        "        \n",
        "    return chunk_clean\n",
        "\n",
        "def process_chunk(chunk):\n",
        "    \"\"\"\n",
        "        Print the size of the chunk processed and the names of the columns. \n",
        "    \"\"\"\n",
        "    \n",
        "    print(f'Processing chunk with {len(chunk)} rows')\n",
        "    print(chunk.columns)\n",
        "    print(\"\")"
      ],
      "execution_count": null,
      "outputs": []
    },
    {
      "cell_type": "markdown",
      "metadata": {
        "id": "m7UOYT3pWV8h"
      },
      "source": [
        "#### a. Data Exploration"
      ]
    },
    {
      "cell_type": "markdown",
      "metadata": {
        "id": "Dp-3PsWsWfYx"
      },
      "source": [
        "In this part, we focus on exploring the distribution of the number of occurences of the filtered dataset. AS an example for the year 2020, the distribution is shown below:"
      ]
    },
    {
      "cell_type": "code",
      "metadata": {
        "id": "ZBJppK5EXAmX"
      },
      "source": [
        "df_reader = pd.read_json(path_to_file, lines=True, compression='bz2', chunksize=1000000)\n",
        "\n",
        "df_2020 = pd.DataFrame()\n",
        "for chunk in df_reader:\n",
        "  process_chunk(chunk)\n",
        "  chunk = clean_chunk(chunk)\n",
        "  df_2020 = df_2020.append(chunk)"
      ],
      "execution_count": null,
      "outputs": []
    },
    {
      "cell_type": "code",
      "metadata": {
        "id": "LccCSeaiXBma"
      },
      "source": [
        "import seaborn as sns\n",
        "sns.histplot(df_2020['numOccurrences'], log_scale = True)"
      ],
      "execution_count": null,
      "outputs": []
    },
    {
      "cell_type": "markdown",
      "metadata": {
        "id": "MCAYx_3jXSVP"
      },
      "source": [
        "![numOccurences_histplot.png](data:image/png;base64,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)"
      ]
    },
    {
      "cell_type": "code",
      "metadata": {
        "id": "AamWSAb1XP0g"
      },
      "source": [
        "df_2020.describe()"
      ],
      "execution_count": null,
      "outputs": []
    },
    {
      "cell_type": "markdown",
      "metadata": {
        "id": "9i5eg-QyXoWW"
      },
      "source": [
        "\n",
        "We notice that with this first filtering, the median is now at 23 occurences per quote, which tends to prove more the veracity of the quote than the preivous median of 1."
      ]
    },
    {
      "cell_type": "markdown",
      "metadata": {
        "id": "0qw83yq7XGZx"
      },
      "source": [
        "#### b. Pre-processing for further analysis"
      ]
    },
    {
      "cell_type": "markdown",
      "metadata": {
        "id": "dvIJu7k8Cji9"
      },
      "source": [
        "In this next cell we pre-process the chunks. As the cleaning of the data is very time consuming we have decided to limit ourselves to 5 chunks of 10'000 quotes."
      ]
    },
    {
      "cell_type": "code",
      "metadata": {
        "id": "m8sRWy4CSeBv"
      },
      "source": [
        "df_reader = pd.read_json(input_path, lines = True, compression = 'bz2', chunksize = 10000)"
      ],
      "execution_count": null,
      "outputs": []
    },
    {
      "cell_type": "code",
      "metadata": {
        "id": "FD5S3f-E-E-1",
        "colab": {
          "base_uri": "https://localhost:8080/"
        },
        "outputId": "69ee91d6-4e4d-4876-9153-28585c18ccd7"
      },
      "source": [
        "# Extraction of the data and filtering  \n",
        "for i,chunk in enumerate(df_reader):\n",
        "  process_chunk(chunk)\n",
        "  cleaned_chunk = clean_chunk(chunk)\n",
        "  cleaned_chunk.to_csv(output_path, mode='a')\n",
        "\n",
        "  #For this initial analysis we will limit us to 5 chunks\n",
        "  if i==5:\n",
        "    break\n"
      ],
      "execution_count": null,
      "outputs": [
        {
          "output_type": "stream",
          "name": "stdout",
          "text": [
            "Processing chunk with 10000 rows\n",
            "Index(['quoteID', 'quotation', 'speaker', 'qids', 'date', 'numOccurrences',\n",
            "       'probas', 'urls', 'phase'],\n",
            "      dtype='object')\n",
            "\n",
            "Processing chunk with 10000 rows\n",
            "Index(['quoteID', 'quotation', 'speaker', 'qids', 'date', 'numOccurrences',\n",
            "       'probas', 'urls', 'phase'],\n",
            "      dtype='object')\n",
            "\n",
            "Processing chunk with 10000 rows\n",
            "Index(['quoteID', 'quotation', 'speaker', 'qids', 'date', 'numOccurrences',\n",
            "       'probas', 'urls', 'phase'],\n",
            "      dtype='object')\n",
            "\n",
            "Processing chunk with 10000 rows\n",
            "Index(['quoteID', 'quotation', 'speaker', 'qids', 'date', 'numOccurrences',\n",
            "       'probas', 'urls', 'phase'],\n",
            "      dtype='object')\n",
            "\n",
            "Processing chunk with 10000 rows\n",
            "Index(['quoteID', 'quotation', 'speaker', 'qids', 'date', 'numOccurrences',\n",
            "       'probas', 'urls', 'phase'],\n",
            "      dtype='object')\n",
            "\n",
            "Processing chunk with 10000 rows\n",
            "Index(['quoteID', 'quotation', 'speaker', 'qids', 'date', 'numOccurrences',\n",
            "       'probas', 'urls', 'phase'],\n",
            "      dtype='object')\n",
            "\n"
          ]
        }
      ]
    }
  ]
}