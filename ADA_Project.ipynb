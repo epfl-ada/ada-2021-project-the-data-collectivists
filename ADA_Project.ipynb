{
  "cells": [
    {
      "cell_type": "markdown",
      "metadata": {
        "id": "C4Z_2WLx-E-b"
      },
      "source": [
        "[![Alt Right Community](/img/ALT_RIGHT.jpg)](https://www.jstor.org/stable/26984798?seq=1#metadata_info_tab_contents)"
      ]
    },
    {
      "cell_type": "markdown",
      "metadata": {
        "id": "p8XLEWsHRc-1"
      },
      "source": [
        "# The rise of far-right extremism speech between 2016 and 2020 \n",
        "### Observed through a dataset of quotes from the press, highlighting the evolution of opinions and ideas that shape the past, present, and the future of our society.\n",
        "\n",
        "$$ \\\\ $$\n",
        "\n",
        "Project in Applied Data Analysis (CS-401)\n",
        "\n",
        "*Team members: Camil Hamdane (SV), Clémentine lévy-Fidel (SV), Nathan Fiorellino (SV), Nathan Girard (SV)*\n",
        "\n"
      ]
    },
    {
      "cell_type": "markdown",
      "metadata": {
        "id": "SOjzVozeJQgN"
      },
      "source": [
        "# **Section 1 : Wrangling**"
      ]
    },
    {
      "cell_type": "markdown",
      "metadata": {
        "id": "GoDhS_iLyT3W"
      },
      "source": [
        "## 1. Getting started\n",
        "\n",
        "### 1.1 Installing and importing libraries\n",
        "\n"
      ]
    },
    {
      "cell_type": "code",
      "source": [
        "!pip uninstall pandas -y"
      ],
      "metadata": {
        "colab": {
          "base_uri": "https://localhost:8080/"
        },
        "id": "zsV9kDsso8he",
        "outputId": "ca95f2fe-2685-4b30-ccb3-51db03b8c581"
      },
      "execution_count": null,
      "outputs": [
        {
          "output_type": "stream",
          "name": "stdout",
          "text": [
            "Found existing installation: pandas 1.1.5\n",
            "Uninstalling pandas-1.1.5:\n",
            "  Successfully uninstalled pandas-1.1.5\n"
          ]
        }
      ]
    },
    {
      "cell_type": "code",
      "execution_count": 1,
      "metadata": {
        "colab": {
          "base_uri": "https://localhost:8080/"
        },
        "id": "wmeNuTSDx9mX",
        "outputId": "f4b5ae58-5ac4-4c5c-d359-2825b7d6b52b"
      },
      "outputs": [
        {
          "output_type": "stream",
          "name": "stdout",
          "text": [
            "Requirement already satisfied: pandas==1.0.5 in /usr/local/lib/python3.7/dist-packages (1.0.5)\n",
            "Requirement already satisfied: numpy>=1.13.3 in /usr/local/lib/python3.7/dist-packages (from pandas==1.0.5) (1.19.5)\n",
            "Requirement already satisfied: python-dateutil>=2.6.1 in /usr/local/lib/python3.7/dist-packages (from pandas==1.0.5) (2.8.2)\n",
            "Requirement already satisfied: pytz>=2017.2 in /usr/local/lib/python3.7/dist-packages (from pandas==1.0.5) (2018.9)\n",
            "Requirement already satisfied: six>=1.5 in /usr/local/lib/python3.7/dist-packages (from python-dateutil>=2.6.1->pandas==1.0.5) (1.15.0)\n",
            "Requirement already satisfied: seaborn in /usr/local/lib/python3.7/dist-packages (0.11.2)\n",
            "Requirement already satisfied: pandas>=0.23 in /usr/local/lib/python3.7/dist-packages (from seaborn) (1.0.5)\n",
            "Requirement already satisfied: scipy>=1.0 in /usr/local/lib/python3.7/dist-packages (from seaborn) (1.4.1)\n",
            "Requirement already satisfied: matplotlib>=2.2 in /usr/local/lib/python3.7/dist-packages (from seaborn) (3.2.2)\n",
            "Requirement already satisfied: numpy>=1.15 in /usr/local/lib/python3.7/dist-packages (from seaborn) (1.19.5)\n",
            "Requirement already satisfied: pyparsing!=2.0.4,!=2.1.2,!=2.1.6,>=2.0.1 in /usr/local/lib/python3.7/dist-packages (from matplotlib>=2.2->seaborn) (3.0.6)\n",
            "Requirement already satisfied: kiwisolver>=1.0.1 in /usr/local/lib/python3.7/dist-packages (from matplotlib>=2.2->seaborn) (1.3.2)\n",
            "Requirement already satisfied: cycler>=0.10 in /usr/local/lib/python3.7/dist-packages (from matplotlib>=2.2->seaborn) (0.11.0)\n",
            "Requirement already satisfied: python-dateutil>=2.1 in /usr/local/lib/python3.7/dist-packages (from matplotlib>=2.2->seaborn) (2.8.2)\n",
            "Requirement already satisfied: pytz>=2017.2 in /usr/local/lib/python3.7/dist-packages (from pandas>=0.23->seaborn) (2018.9)\n",
            "Requirement already satisfied: six>=1.5 in /usr/local/lib/python3.7/dist-packages (from python-dateutil>=2.1->matplotlib>=2.2->seaborn) (1.15.0)\n",
            "Requirement already satisfied: tld in /usr/local/lib/python3.7/dist-packages (0.12.6)\n",
            "Requirement already satisfied: numpy in /usr/local/lib/python3.7/dist-packages (1.19.5)\n",
            "Requirement already satisfied: matplotlib in /usr/local/lib/python3.7/dist-packages (3.2.2)\n",
            "Requirement already satisfied: cycler>=0.10 in /usr/local/lib/python3.7/dist-packages (from matplotlib) (0.11.0)\n",
            "Requirement already satisfied: kiwisolver>=1.0.1 in /usr/local/lib/python3.7/dist-packages (from matplotlib) (1.3.2)\n",
            "Requirement already satisfied: python-dateutil>=2.1 in /usr/local/lib/python3.7/dist-packages (from matplotlib) (2.8.2)\n",
            "Requirement already satisfied: numpy>=1.11 in /usr/local/lib/python3.7/dist-packages (from matplotlib) (1.19.5)\n",
            "Requirement already satisfied: pyparsing!=2.0.4,!=2.1.2,!=2.1.6,>=2.0.1 in /usr/local/lib/python3.7/dist-packages (from matplotlib) (3.0.6)\n",
            "Requirement already satisfied: six>=1.5 in /usr/local/lib/python3.7/dist-packages (from python-dateutil>=2.1->matplotlib) (1.15.0)\n",
            "Requirement already satisfied: vaderSentiment in /usr/local/lib/python3.7/dist-packages (3.3.2)\n",
            "Requirement already satisfied: requests in /usr/local/lib/python3.7/dist-packages (from vaderSentiment) (2.23.0)\n",
            "Requirement already satisfied: certifi>=2017.4.17 in /usr/local/lib/python3.7/dist-packages (from requests->vaderSentiment) (2021.10.8)\n",
            "Requirement already satisfied: chardet<4,>=3.0.2 in /usr/local/lib/python3.7/dist-packages (from requests->vaderSentiment) (3.0.4)\n",
            "Requirement already satisfied: idna<3,>=2.5 in /usr/local/lib/python3.7/dist-packages (from requests->vaderSentiment) (2.10)\n",
            "Requirement already satisfied: urllib3!=1.25.0,!=1.25.1,<1.26,>=1.21.1 in /usr/local/lib/python3.7/dist-packages (from requests->vaderSentiment) (1.24.3)\n"
          ]
        }
      ],
      "source": [
        "# Installations\n",
        "!pip install pandas==1.0.5 \n",
        "!pip install seaborn\n",
        "!pip install tld\n",
        "!pip install numpy\n",
        "!pip install matplotlib\n",
        "!pip install vaderSentiment"
      ]
    },
    {
      "cell_type": "code",
      "execution_count": 2,
      "metadata": {
        "id": "u8AT8UMUyDBC"
      },
      "outputs": [],
      "source": [
        "# Imports\n",
        "import os\n",
        "import ast\n",
        "import requests\n",
        "import re\n",
        "import string\n",
        "\n",
        "import pandas as pd\n",
        "import numpy as np\n",
        "import seaborn as sns\n",
        "\n",
        "from matplotlib import pyplot as plt\n",
        "from urllib.parse import urlparse\n",
        "from string import punctuation\n",
        "from vaderSentiment.vaderSentiment import SentimentIntensityAnalyzer\n",
        "from html.parser import HTMLParser"
      ]
    },
    {
      "cell_type": "code",
      "execution_count": 3,
      "metadata": {
        "id": "FKgYDqYSyyjt"
      },
      "outputs": [],
      "source": [
        "# Google import\n",
        "from google.colab import drive\n",
        "from google.colab import files"
      ]
    },
    {
      "cell_type": "markdown",
      "metadata": {
        "id": "QzFFwwPkyg7i"
      },
      "source": [
        "### 1.2 Mounting drive"
      ]
    },
    {
      "cell_type": "code",
      "execution_count": 4,
      "metadata": {
        "colab": {
          "base_uri": "https://localhost:8080/"
        },
        "id": "CEcIlRwfWY4C",
        "outputId": "0130e5fd-dc46-4a36-d3f5-a734b93db510"
      },
      "outputs": [
        {
          "output_type": "stream",
          "name": "stdout",
          "text": [
            "Mounted at /content/drive\n"
          ]
        }
      ],
      "source": [
        "drive.mount('/content/drive')"
      ]
    },
    {
      "cell_type": "code",
      "execution_count": 5,
      "metadata": {
        "id": "KRUmuW0b-E-y"
      },
      "outputs": [],
      "source": [
        "# Data Path \n",
        "input_path = '/content/drive/MyDrive/Quotebank/'\n",
        "data_storage_path = '/content/drive/Shareddrives/Ada-The data collectivists/data/'\n",
        "\n",
        "primer_input = \"quotes-\"\n",
        "tail_input = \".json.bz2\"\n",
        "\n",
        "primer_output = \"df_FF\"\n",
        "tail_output = \".csv\"\n",
        "\n",
        "years = [\"2016\", \"2017\", \"2018\", \"2019\", \"2020\"]"
      ]
    },
    {
      "cell_type": "markdown",
      "metadata": {
        "id": "cKUy29h68N0J"
      },
      "source": [
        "## 2. Preprocessing\n",
        "\n"
      ]
    },
    {
      "cell_type": "markdown",
      "metadata": {
        "id": "DK4YmTdA9wmY"
      },
      "source": [
        "### 2.1 Extraction of the data"
      ]
    },
    {
      "cell_type": "markdown",
      "metadata": {
        "id": "m7UOYT3pWV8h"
      },
      "source": [
        "#### a. Data Exploration\n"
      ]
    },
    {
      "cell_type": "markdown",
      "metadata": {
        "id": "TqbPGaJIJy1F"
      },
      "source": [
        "We first take a quick look at the data so that we can confirm that we read it correctly and that we get an  idea of what it looks like so we can better decide how we will preprocess and particularly what kind of filters are relevant."
      ]
    },
    {
      "cell_type": "code",
      "execution_count": null,
      "metadata": {
        "id": "XCj68Wn52n7j"
      },
      "outputs": [],
      "source": [
        "path_to_file = input_path + primer_input + years[2] + tail_input"
      ]
    },
    {
      "cell_type": "code",
      "execution_count": null,
      "metadata": {
        "id": "ZBJppK5EXAmX",
        "colab": {
          "base_uri": "https://localhost:8080/",
          "height": 1000
        },
        "outputId": "4cae3b0a-3487-4e35-c852-d9a96c4c3705"
      },
      "outputs": [
        {
          "output_type": "stream",
          "name": "stdout",
          "text": [
            "Columns\n",
            "Index(['quoteID', 'quotation', 'speaker', 'qids', 'date', 'numOccurrences',\n",
            "       'probas', 'urls', 'phase'],\n",
            "      dtype='object')\n",
            "Colum 1 and 2\n",
            "             quoteID                                          quotation\n",
            "0  2018-06-30-000005  ... a minimum of 5.25 trillion (plastic) parti...\n",
            "1  2018-12-06-000021  ... a race to see who could sail around the wo...\n",
            "2  2018-04-25-000107  ... a tyrant whose chin might be lumps of grap...\n",
            "3  2018-06-28-000032  [ Alberto ] attempted at this time to resolve ...\n",
            "4  2018-09-15-000010  ... Among the many observations I have receive...\n",
            "Colum 3 and 4\n",
            "          speaker                                               qids\n",
            "0  Marcus Eriksen                                        [Q55997400]\n",
            "1     James Marsh  [Q2720543, Q41757028, Q56510432, Q6138937, Q99...\n",
            "2            None                                                 []\n",
            "3            None                                                 []\n",
            "4            None                                                 []\n",
            "Colum 5 and 6\n",
            "                 date  numOccurrences\n",
            "0 2018-06-30 07:00:00               3\n",
            "1 2018-12-06 12:00:34               1\n",
            "2 2018-04-25 03:48:37               2\n",
            "3 2018-06-28 04:01:03               2\n",
            "4 2018-09-15 00:05:14               1\n",
            "Colum 7 and 8\n",
            "                                              probas                                               urls\n",
            "0         [[Marcus Eriksen, 0.6814], [None, 0.3186]]  [http://www.santacruzsentinel.com/environment-...\n",
            "1            [[James Marsh, 0.6787], [None, 0.3213]]         [http://filmthreat.com/reviews/the-mercy/]\n",
            "2  [[None, 0.7475], [Oliver Stone, 0.1527], [Pete...  [https://slate.com/culture/2018/04/heres-how-c...\n",
            "3              [[None, 0.6688], [El Patron, 0.3312]]  [http://comicbook.com/2018/06/28/alberto-el-pa...\n",
            "4           [[None, 0.9496], [Pope Francis, 0.0504]]  [http://wjla.com/news/local/facing-calls-to-re...\n",
            "Colum 9\n",
            "0    E\n",
            "1    E\n",
            "2    E\n",
            "3    E\n",
            "4    E\n",
            "Name: phase, dtype: object\n"
          ]
        },
        {
          "output_type": "display_data",
          "data": {
            "image/png": "[encoded data removed]",
            "text/plain": [
              "<Figure size 1080x360 with 2 Axes>"
            ]
          },
          "metadata": {
            "needs_background": "light"
          }
        }
      ],
      "source": [
        "df_reader = pd.read_json(path_to_file,lines = True, compression = 'bz2', chunksize = 1_000)\n",
        "for chunk in df_reader:\n",
        "  # We will only process one chunk here (The reason why we don't just )\n",
        "  print(\"Columns\")\n",
        "  print(chunk.columns)\n",
        "  print(\"Colum 1 and 2\")\n",
        "  print(chunk.iloc[0:5,0:2])\n",
        "  print(\"Colum 3 and 4\")\n",
        "  print(chunk.iloc[0:5,2:4])\n",
        "  print(\"Colum 5 and 6\")\n",
        "  print(chunk.iloc[0:5,4:6])\n",
        "  print(\"Colum 7 and 8\")\n",
        "  print(chunk.iloc[0:5,6:8])\n",
        "  print(\"Colum 9\")\n",
        "  print(chunk.iloc[0:5,8])\n",
        "  fig, axes = plt.subplots(1, 2, figsize=(15, 5))\n",
        "\n",
        "  sns.histplot(ax = axes[0], data = chunk['numOccurrences'], bins = 100)\n",
        "  sns.histplot(ax = axes[1], data = chunk['date'], bins = 100)\n",
        "  break"
      ]
    },
    {
      "cell_type": "markdown",
      "metadata": {
        "id": "2V67aCknDjgY"
      },
      "source": [
        "In this section, we extract the data and preprocess it, such that we can better conduct our analysis. The Data exploration brought us to choose the following filtering steps:\n",
        "\n",
        "- Remove quotes with low numOccurences, less than **10**,\n",
        "- Remove quotes that have more than **1** speaker,\n",
        "- Filter for samples with only **1** QID,\n",
        "- Keep quotes whose probability is higher than **0.6**\n",
        "- Remove **\"phase\"** feature of the dataframe\n",
        "- Remove news outlets relaying less than a certain number of quotes, as they do not contribute to reflecting global trends.\n",
        "\n",
        "Because of the huge size of the data and the limited capacity of the RAM provided by Google, we decided to process the data **per year**. In addition, chunks of data (per year) are processed sequentially to avoid exceed storage capacity. This preprocessing pipeline filters most of the data, such that **approximately 4%** of the initial data remains at the end. We obtain therefore clean and usable data for further analysis, stored in files named *\"processed_quotes-20XX.csv\"*, for each year. "
      ]
    },
    {
      "cell_type": "code",
      "execution_count": null,
      "metadata": {
        "id": "KQt9u4hVzJBF"
      },
      "outputs": [],
      "source": [
        "# Constants\n",
        "min_occurence = 10\n",
        "acceptable_QID_amount = 1\n",
        "min_probability = 0.6\n",
        "remove_columns = [\"phase\"]"
      ]
    },
    {
      "cell_type": "code",
      "execution_count": null,
      "metadata": {
        "id": "aHMv0FD0Eh_W"
      },
      "outputs": [],
      "source": [
        "# Definition of helper functions\n",
        "\n",
        "def clean_chunk(chunk):\n",
        "    \"\"\" \n",
        "        Cleans dataset chunk by removing unattributed quotes (quotes whose most probable speaker is unknown) or quotes whose speaker name is associated with more \n",
        "        than 1 alias removes 'probas' column and keep only quotes whose speaker probability is greater than 0.6 removes 'phase' column.\n",
        "    \"\"\"          \n",
        "    chunk_clean = chunk.copy()\n",
        "    \n",
        "    # Remove Samples with low numOccurences\n",
        "    chunk_clean = chunk_clean[chunk_clean['numOccurrences'] > min_occurence]\n",
        "\n",
        "    # Filtering for samples containing exactly one QIDs\n",
        "    chunk_clean = chunk_clean.loc[chunk_clean[chunk_clean['qids'].map(len) == 1].index]\n",
        "    chunk_clean['qids'] = chunk_clean['qids'].apply(lambda qids: qids[0])\n",
        "    \n",
        "    # Remove samples with more than 1 speaker \n",
        "    if chunk_clean['probas'].dtype != 'float64': # In case the 'probas' column has already been pre-processed\n",
        "        chunk_clean['probas'] = chunk_clean['probas'].apply(lambda probas: float(probas[0][1]))\n",
        "    \n",
        "    # Remove Samples with low probability\n",
        "    chunk_clean = chunk_clean[chunk_clean['probas'] > min_probability]\n",
        "    \n",
        "    # Removing phase feature\n",
        "    if 'phase' in chunk_clean: # In case the 'phase' column has already been pre-processed\n",
        "        chunk_clean = chunk_clean.drop('phase', axis = 1)\n",
        "      \n",
        "    return chunk_clean"
      ]
    },
    {
      "cell_type": "code",
      "execution_count": null,
      "metadata": {
        "id": "ZmgQ8-HO_IhR"
      },
      "outputs": [],
      "source": [
        "def describe_chunk(size, i, add_string):\n",
        "    \"\"\"\n",
        "        Print the size of the chunk processed and its number. \n",
        "    \"\"\"\n",
        "    \n",
        "    print(f'{add_string} processing of chunk n°{i+1} with {size} rows')\n",
        "    print(\"\")"
      ]
    },
    {
      "cell_type": "code",
      "execution_count": null,
      "metadata": {
        "id": "sIj8rIEcks0w"
      },
      "outputs": [],
      "source": [
        "def filter_year(path_to_file, chunksize):\n",
        "  df_reader = pd.read_json(path_to_file, lines = True, compression = 'bz2', chunksize = chunksize)\n",
        "\n",
        "  year_df = pd.DataFrame()\n",
        "  i = 0\n",
        "  describe_chunk(chunksize, i, \"Begining\")\n",
        "  for chunk in df_reader:\n",
        "    chunk = clean_chunk(chunk)\n",
        "    year_df = year_df.append(chunk)\n",
        "    describe_chunk(len(chunk), i, \"Ending\")\n",
        "    i = i + 1\n",
        "    describe_chunk(chunksize, i, \"Begining\")\n",
        "  return year_df"
      ]
    },
    {
      "cell_type": "code",
      "execution_count": null,
      "metadata": {
        "id": "iMyEC7i7I8w6"
      },
      "outputs": [],
      "source": [
        "chunksize = 10000"
      ]
    },
    {
      "cell_type": "code",
      "source": [
        "def filter_news_outlets(df):\n",
        "  \"\"\" \n",
        "    Removing irrelevant news outlets: news outlets that haven't published more than 10 quotes\n",
        "  \"\"\"\n",
        "  # Convert string-formatted list into list\n",
        "  #chunk_clean['urls'] = chunk_clean['urls'].map(lambda x: ast.literal_eval(x))\n",
        "  # Expand each quote into several rows, one for each URL\n",
        "  df_expanded = df.explode('urls')\n",
        "  # Replace each URL by its domain only\n",
        "  df_expanded['urls'] = df_expanded['urls'].map(lambda x: urlparse(x).netloc)\n",
        "  # Count number of domains per quote\n",
        "  domain_count = df_expanded[['quoteID', 'urls']].groupby(['urls']).count()\n",
        "  # Create list of domains occuring publishing less than 10 quotes\n",
        "  single_domain = domain_count[domain_count['quoteID']<10].index.to_list()\n",
        "  # Get quoteID of quotes quoted by one of these domains\n",
        "  quoteID_single_domain = set(df_expanded[df_expanded['urls'].isin(single_domain)]['quoteID'])\n",
        "  # Drop quotes with obtained quoteID from chunk\n",
        "  return df.drop(df[df['quoteID'].isin(quoteID_single_domain)].index)"
      ],
      "metadata": {
        "id": "4EbSrydkplDJ"
      },
      "execution_count": null,
      "outputs": []
    },
    {
      "cell_type": "code",
      "execution_count": null,
      "metadata": {
        "id": "pZD7VtF2AZhO"
      },
      "outputs": [],
      "source": [
        "def handle_year(i):\n",
        "  path_to_file = input_path + primer_input + years[i] + tail_input\n",
        "  year_df = filter_year(path_to_file,chunksize)\n",
        "  year_df = filter_news_outlets(year_df)\n",
        "  return year_df"
      ]
    },
    {
      "cell_type": "code",
      "execution_count": null,
      "metadata": {
        "id": "Pg5RL47UJ77G"
      },
      "outputs": [],
      "source": [
        "df_ff_2016 = handle_year(0) #2016"
      ]
    },
    {
      "cell_type": "code",
      "source": [
        "path_to_output = data_storage_path + primer_output + '/' + primer_output + years[0] + tail_output\n",
        "df_ff_2016.to_csv(path_to_output, encoding = 'utf-8')"
      ],
      "metadata": {
        "id": "ihWL5qliDb8l"
      },
      "execution_count": null,
      "outputs": []
    },
    {
      "cell_type": "code",
      "execution_count": null,
      "metadata": {
        "id": "R8xzhkB1_up6"
      },
      "outputs": [],
      "source": [
        "df_ff_2017 = handle_year(1)#2017"
      ]
    },
    {
      "cell_type": "code",
      "source": [
        "path_to_output = data_storage_path + primer_output + '/' + primer_output + years[1] + tail_output\n",
        "df_ff_2017.to_csv(path_to_output, encoding = 'utf-8')"
      ],
      "metadata": {
        "id": "vhhPn-5eUKDU"
      },
      "execution_count": null,
      "outputs": []
    },
    {
      "cell_type": "code",
      "execution_count": null,
      "metadata": {
        "id": "gXm8zdjK_vzQ"
      },
      "outputs": [],
      "source": [
        "df_ff_2018 = handle_year(2) #2018"
      ]
    },
    {
      "cell_type": "code",
      "source": [
        "path_to_output = data_storage_path + primer_output + '/' + primer_output + years[2] + tail_output\n",
        "df_ff_2018.to_csv(path_to_output, encoding = 'utf-8')"
      ],
      "metadata": {
        "id": "Yym8NyxFUdX3"
      },
      "execution_count": null,
      "outputs": []
    },
    {
      "cell_type": "code",
      "execution_count": null,
      "metadata": {
        "id": "_7CL1Fqb_xLs"
      },
      "outputs": [],
      "source": [
        "handle_year(3) #2019"
      ]
    },
    {
      "cell_type": "code",
      "source": [
        "path_to_output = data_storage_path + primer_output + '/' + primer_output + years[3] + tail_output\n",
        "df_ff_2019.to_csv(path_to_output, encoding = 'utf-8')"
      ],
      "metadata": {
        "id": "_Aa64pV_Y3Rq"
      },
      "execution_count": null,
      "outputs": []
    },
    {
      "cell_type": "code",
      "execution_count": null,
      "metadata": {
        "id": "-AZSgtTC_2nR"
      },
      "outputs": [],
      "source": [
        "handle_year(4) #2020"
      ]
    },
    {
      "cell_type": "code",
      "source": [
        "path_to_output = data_storage_path + primer_output + '/' + primer_output + years[4] + tail_output\n",
        "df_ff_2020.to_csv(path_to_output, encoding = 'utf-8')"
      ],
      "metadata": {
        "id": "Hh-TEkhXY54V"
      },
      "execution_count": null,
      "outputs": []
    },
    {
      "cell_type": "markdown",
      "metadata": {
        "id": "_l-jTySVKwOu"
      },
      "source": [
        "# 3. Selection with Hatebase"
      ]
    },
    {
      "cell_type": "code",
      "execution_count": 6,
      "metadata": {
        "id": "4lZpN785AZKC",
        "colab": {
          "base_uri": "https://localhost:8080/"
        },
        "outputId": "b328805f-70ec-4efe-c927-c561fc908066"
      },
      "outputs": [
        {
          "output_type": "execute_result",
          "data": {
            "text/plain": [
              "['df_FF2019.csv',\n",
              " 'df_FF2016.csv',\n",
              " 'df_FF2020.csv',\n",
              " 'df_FF2017.csv',\n",
              " 'df_FF2018.csv']"
            ]
          },
          "metadata": {},
          "execution_count": 6
        }
      ],
      "source": [
        "#Import dataframes\n",
        "path_to_folder = 'drive/Shareddrives/Ada-The data collectivists/data/df_FF/'\n",
        "#df_2016 = pd.read_csv(path + file_name)\n",
        "files = [f for f in os.listdir(path_to_folder) if os.path.isfile(\n",
        "        os.path.join(path_to_folder, f)) and f[-3:] == 'csv']\n",
        "files"
      ]
    },
    {
      "cell_type": "code",
      "execution_count": 7,
      "metadata": {
        "id": "m_80DOW6BSzq"
      },
      "outputs": [],
      "source": [
        "hate_frame = 'HateBase/hateframe.csv'"
      ]
    },
    {
      "cell_type": "code",
      "execution_count": 8,
      "metadata": {
        "id": "JiCQ3EwpA5Uq"
      },
      "outputs": [],
      "source": [
        "hate_path = data_storage_path + hate_frame\n",
        "hateframe = pd.read_csv(hate_path)\n",
        "hateframe['Term'] = hateframe['Term'].str.lower()\n",
        "hateset = set(hateframe['Term'])\n",
        "hateset = [' {} '.format(x).lower() for x in hateset]"
      ]
    },
    {
      "cell_type": "code",
      "execution_count": 9,
      "metadata": {
        "id": "lVxIMK60BxzQ"
      },
      "outputs": [],
      "source": [
        "#One hot vector with hate \"domains\"\n",
        "one_hot = list(hateframe.columns)[2:]\n",
        "\n",
        "\n",
        "def extract_hate(df_, hateframe):\n",
        "\n",
        "  \n",
        "  out = df_.copy()\n",
        "  for col in one_hot: out[col] = 0\n",
        "\n",
        "\n",
        "  out['quotation'] = out['quotation'].str.lower()\n",
        "  out['quotation'] = out['quotation'].apply(lambda x: f' {x} ',)\n",
        "  out[\"quotation\"] = out['quotation'].str.replace('[^\\w\\s]','')\n",
        "\n",
        "  \n",
        "  out = out[out['quotation'].str.contains('|'.join(hateset))]\n",
        "\n",
        "\n",
        "  for index, row in out.iterrows():\n",
        "    match = re.search('|'.join(hateset), str(row['quotation']))\n",
        "    if match is not None:\n",
        "      \n",
        "      hateword = match[0].strip()\n",
        "      out.loc[index, one_hot] = hateframe.query('Term == @hateword').loc[:, one_hot].squeeze() \n",
        "\n",
        "  return out\n",
        "\n",
        "  \n",
        "def build_hate_frame(path, files, hateframe):\n",
        "  \n",
        "  out = pd.DataFrame()\n",
        "\n",
        "  for file_ in files:\n",
        "    df_temp = extract_hate(pd.read_csv(path + file_), hateframe)\n",
        "    out = out.append(df_temp)\n",
        "\n",
        "  return out\n",
        "\n",
        "\n",
        "df = build_hate_frame(path_to_folder, files, hateframe)"
      ]
    },
    {
      "cell_type": "code",
      "source": [
        "hateful_filename = 'df_hateful.csv'\n",
        "df.to_csv(data_storage_path + hateful_filename, encoding = 'utf-8')"
      ],
      "metadata": {
        "id": "ywyhLtV-4lFd"
      },
      "execution_count": 10,
      "outputs": []
    },
    {
      "cell_type": "code",
      "execution_count": 11,
      "metadata": {
        "id": "VZUQAV5UB2YJ",
        "colab": {
          "base_uri": "https://localhost:8080/",
          "height": 468
        },
        "outputId": "a5ecd44a-4b3b-40f2-fe4d-2e308d70bea3"
      },
      "outputs": [
        {
          "output_type": "display_data",
          "data": {
            "image/png": "[encoded data removed]",
            "text/plain": [
              "<Figure size 1080x504 with 1 Axes>"
            ]
          },
          "metadata": {
            "needs_background": "light"
          }
        }
      ],
      "source": [
        "df[\"date\"] = (df[\"date\"].astype(\"datetime64\"))\n",
        "df[\"year\"] = df['year'] = pd.DatetimeIndex(df['date']).year\n",
        "df[\"month\"] = df['month'] = pd.DatetimeIndex(df['date']).month\n",
        "\n",
        "month_groups = df.groupby([df['year'],df['month']]\n",
        "                          ).size()\n",
        "\n",
        "month_groups.plot(kind='bar',figsize=(15,7),legend=None)\n",
        "plt.xlabel(\"Year, Month\")\n",
        "plt.ylabel(\"Hateful quotes\")\n",
        "plt.show()"
      ]
    },
    {
      "cell_type": "markdown",
      "metadata": {
        "id": "-DRES8UnC2dl"
      },
      "source": [
        "We notice that with this first filtering, the median is now at 23 occurences per quote, which tends to prove more the veracity of the quote than the preivous median of 1."
      ]
    },
    {
      "cell_type": "markdown",
      "source": [
        "#### Hate topics presence\n",
        "\n",
        "But what are the hate quotes directed towards? We can answer that by using a very useful feature: the 'is_about' columns, that collect the topic associated with the word that made a quote be detected by the hateframe extraction. Let's have a look at what the dataframe looks like, we'll find the different topics in its columns:"
      ],
      "metadata": {
        "id": "opZoYRqUdEtN"
      }
    },
    {
      "cell_type": "code",
      "source": [
        "df.head(2)"
      ],
      "metadata": {
        "colab": {
          "base_uri": "https://localhost:8080/",
          "height": 297
        },
        "id": "YEKR1u1-dDr4",
        "outputId": "156c07f7-6187-4361-a00e-aba98dac6dd0"
      },
      "execution_count": 12,
      "outputs": [
        {
          "output_type": "execute_result",
          "data": {
            "text/html": [
              "\n",
              "  <div id=\"df-7fa89845-ee1c-4632-83b5-9560f1df79c1\">\n",
              "    <div class=\"colab-df-container\">\n",
              "      <div>\n",
              "<style scoped>\n",
              "    .dataframe tbody tr th:only-of-type {\n",
              "        vertical-align: middle;\n",
              "    }\n",
              "\n",
              "    .dataframe tbody tr th {\n",
              "        vertical-align: top;\n",
              "    }\n",
              "\n",
              "    .dataframe thead th {\n",
              "        text-align: right;\n",
              "    }\n",
              "</style>\n",
              "<table border=\"1\" class=\"dataframe\">\n",
              "  <thead>\n",
              "    <tr style=\"text-align: right;\">\n",
              "      <th></th>\n",
              "      <th>Unnamed: 0</th>\n",
              "      <th>quoteID</th>\n",
              "      <th>quotation</th>\n",
              "      <th>speaker</th>\n",
              "      <th>qids</th>\n",
              "      <th>date</th>\n",
              "      <th>numOccurrences</th>\n",
              "      <th>probas</th>\n",
              "      <th>urls</th>\n",
              "      <th>is_about_nationality</th>\n",
              "      <th>is_about_ethnicity</th>\n",
              "      <th>is_about_religion</th>\n",
              "      <th>is_about_gender</th>\n",
              "      <th>is_about_sexual_orientation</th>\n",
              "      <th>is_about_disability</th>\n",
              "      <th>is_about_class</th>\n",
              "      <th>number_of_sightings</th>\n",
              "      <th>year</th>\n",
              "      <th>month</th>\n",
              "    </tr>\n",
              "  </thead>\n",
              "  <tbody>\n",
              "    <tr>\n",
              "      <th>384</th>\n",
              "      <td>21207</td>\n",
              "      <td>2019-09-06-048692</td>\n",
              "      <td>it celebrates the queer community within fash...</td>\n",
              "      <td>Suhaly Bautista-Carolina</td>\n",
              "      <td>Q43380935</td>\n",
              "      <td>2019-09-06 00:00:00</td>\n",
              "      <td>43</td>\n",
              "      <td>0.8508</td>\n",
              "      <td>['http://www.dailyherald.com/article/20190906/...</td>\n",
              "      <td>0.0</td>\n",
              "      <td>0.0</td>\n",
              "      <td>0.0</td>\n",
              "      <td>0.0</td>\n",
              "      <td>1.0</td>\n",
              "      <td>0.0</td>\n",
              "      <td>0.0</td>\n",
              "      <td>940.0</td>\n",
              "      <td>2019</td>\n",
              "      <td>9</td>\n",
              "    </tr>\n",
              "    <tr>\n",
              "      <th>3881</th>\n",
              "      <td>218949</td>\n",
              "      <td>2019-04-29-075175</td>\n",
              "      <td>the lamest leastinteresting newfie joke ive h...</td>\n",
              "      <td>Mark Critch</td>\n",
              "      <td>Q6767200</td>\n",
              "      <td>2019-04-29 07:35:00</td>\n",
              "      <td>40</td>\n",
              "      <td>0.8024</td>\n",
              "      <td>['http://timescolonist.com/the-simpsons-takes-...</td>\n",
              "      <td>0.0</td>\n",
              "      <td>0.0</td>\n",
              "      <td>0.0</td>\n",
              "      <td>0.0</td>\n",
              "      <td>0.0</td>\n",
              "      <td>0.0</td>\n",
              "      <td>0.0</td>\n",
              "      <td>101.0</td>\n",
              "      <td>2019</td>\n",
              "      <td>4</td>\n",
              "    </tr>\n",
              "  </tbody>\n",
              "</table>\n",
              "</div>\n",
              "      <button class=\"colab-df-convert\" onclick=\"convertToInteractive('df-7fa89845-ee1c-4632-83b5-9560f1df79c1')\"\n",
              "              title=\"Convert this dataframe to an interactive table.\"\n",
              "              style=\"display:none;\">\n",
              "        \n",
              "  <svg xmlns=\"http://www.w3.org/2000/svg\" height=\"24px\"viewBox=\"0 0 24 24\"\n",
              "       width=\"24px\">\n",
              "    <path d=\"M0 0h24v24H0V0z\" fill=\"none\"/>\n",
              "    <path d=\"M18.56 5.44l.94 2.06.94-2.06 2.06-.94-2.06-.94-.94-2.06-.94 2.06-2.06.94zm-11 1L8.5 8.5l.94-2.06 2.06-.94-2.06-.94L8.5 2.5l-.94 2.06-2.06.94zm10 10l.94 2.06.94-2.06 2.06-.94-2.06-.94-.94-2.06-.94 2.06-2.06.94z\"/><path d=\"M17.41 7.96l-1.37-1.37c-.4-.4-.92-.59-1.43-.59-.52 0-1.04.2-1.43.59L10.3 9.45l-7.72 7.72c-.78.78-.78 2.05 0 2.83L4 21.41c.39.39.9.59 1.41.59.51 0 1.02-.2 1.41-.59l7.78-7.78 2.81-2.81c.8-.78.8-2.07 0-2.86zM5.41 20L4 18.59l7.72-7.72 1.47 1.35L5.41 20z\"/>\n",
              "  </svg>\n",
              "      </button>\n",
              "      \n",
              "  <style>\n",
              "    .colab-df-container {\n",
              "      display:flex;\n",
              "      flex-wrap:wrap;\n",
              "      gap: 12px;\n",
              "    }\n",
              "\n",
              "    .colab-df-convert {\n",
              "      background-color: #E8F0FE;\n",
              "      border: none;\n",
              "      border-radius: 50%;\n",
              "      cursor: pointer;\n",
              "      display: none;\n",
              "      fill: #1967D2;\n",
              "      height: 32px;\n",
              "      padding: 0 0 0 0;\n",
              "      width: 32px;\n",
              "    }\n",
              "\n",
              "    .colab-df-convert:hover {\n",
              "      background-color: #E2EBFA;\n",
              "      box-shadow: 0px 1px 2px rgba(60, 64, 67, 0.3), 0px 1px 3px 1px rgba(60, 64, 67, 0.15);\n",
              "      fill: #174EA6;\n",
              "    }\n",
              "\n",
              "    [theme=dark] .colab-df-convert {\n",
              "      background-color: #3B4455;\n",
              "      fill: #D2E3FC;\n",
              "    }\n",
              "\n",
              "    [theme=dark] .colab-df-convert:hover {\n",
              "      background-color: #434B5C;\n",
              "      box-shadow: 0px 1px 3px 1px rgba(0, 0, 0, 0.15);\n",
              "      filter: drop-shadow(0px 1px 2px rgba(0, 0, 0, 0.3));\n",
              "      fill: #FFFFFF;\n",
              "    }\n",
              "  </style>\n",
              "\n",
              "      <script>\n",
              "        const buttonEl =\n",
              "          document.querySelector('#df-7fa89845-ee1c-4632-83b5-9560f1df79c1 button.colab-df-convert');\n",
              "        buttonEl.style.display =\n",
              "          google.colab.kernel.accessAllowed ? 'block' : 'none';\n",
              "\n",
              "        async function convertToInteractive(key) {\n",
              "          const element = document.querySelector('#df-7fa89845-ee1c-4632-83b5-9560f1df79c1');\n",
              "          const dataTable =\n",
              "            await google.colab.kernel.invokeFunction('convertToInteractive',\n",
              "                                                     [key], {});\n",
              "          if (!dataTable) return;\n",
              "\n",
              "          const docLinkHtml = 'Like what you see? Visit the ' +\n",
              "            '<a target=\"_blank\" href=https://colab.research.google.com/notebooks/data_table.ipynb>data table notebook</a>'\n",
              "            + ' to learn more about interactive tables.';\n",
              "          element.innerHTML = '';\n",
              "          dataTable['output_type'] = 'display_data';\n",
              "          await google.colab.output.renderOutput(dataTable, element);\n",
              "          const docLink = document.createElement('div');\n",
              "          docLink.innerHTML = docLinkHtml;\n",
              "          element.appendChild(docLink);\n",
              "        }\n",
              "      </script>\n",
              "    </div>\n",
              "  </div>\n",
              "  "
            ],
            "text/plain": [
              "      Unnamed: 0            quoteID  ...  year month\n",
              "384        21207  2019-09-06-048692  ...  2019     9\n",
              "3881      218949  2019-04-29-075175  ...  2019     4\n",
              "\n",
              "[2 rows x 19 columns]"
            ]
          },
          "metadata": {},
          "execution_count": 12
        }
      ]
    },
    {
      "cell_type": "markdown",
      "source": [
        "By summing all the one hot values over the 7 hate topics (nationality, ethnicity, religion, gender, sexual orientation, disability, and social class), we have the following patterns:"
      ],
      "metadata": {
        "id": "mIGMujjGej1Y"
      }
    },
    {
      "cell_type": "code",
      "source": [
        "topics = df[['is_about_nationality', 'is_about_ethnicity', 'is_about_religion',\t'is_about_gender', 'is_about_sexual_orientation', 'is_about_disability', 'is_about_class']].sum()\n",
        "topics"
      ],
      "metadata": {
        "colab": {
          "base_uri": "https://localhost:8080/"
        },
        "id": "c4Osf77aesrb",
        "outputId": "83b6b5c3-8bf4-4d6f-8cfe-9f3ec0f5b95f"
      },
      "execution_count": 13,
      "outputs": [
        {
          "output_type": "execute_result",
          "data": {
            "text/plain": [
              "is_about_nationality           360.0\n",
              "is_about_ethnicity             625.0\n",
              "is_about_religion               89.0\n",
              "is_about_gender                411.0\n",
              "is_about_sexual_orientation    149.0\n",
              "is_about_disability             65.0\n",
              "is_about_class                 115.0\n",
              "dtype: float64"
            ]
          },
          "metadata": {},
          "execution_count": 13
        }
      ]
    },
    {
      "cell_type": "markdown",
      "source": [
        "We notice that some topics receive more hateful quotes than others, namely ethnicity (which suggest racist speech) and gender (which suggests sexism)."
      ],
      "metadata": {
        "id": "Dt4B2IpKe9-C"
      }
    },
    {
      "cell_type": "markdown",
      "metadata": {
        "id": "SNmlg4B2JAI-"
      },
      "source": [
        "## 4. Populating speaker information"
      ]
    },
    {
      "cell_type": "markdown",
      "source": [
        "We are now interested about knowing more about the speakers at the origin of hateful quotes. Information about the speakers can be found via their Wikidata QID. Wikidata are stored as a parquet file, containing attributes like the different aliases for a speaker, their date of birth, nationality, gender, ethnic group, US congress identifier, occupation, party, academic degree, candidacy, or religion. From intuition, we decide to discard  attributes like US congress idenitfiers, candidacy or academic degree, as they only concern a small fraction of the speakers population. Whether about these discarded attributes or the remaining ones, a problem remains: the fact that not all attributes are registered in the database, even if they exist, so we must keep careful when anlyzing the proportions of certain categories. But let's dive into the metadata!\n",
        "\n",
        "\n",
        "First, we need to load the parquet file, format it a bit so as to be readble and finally merge it with the quotes dataframe."
      ],
      "metadata": {
        "id": "agnL1FGGX3ZO"
      }
    },
    {
      "cell_type": "code",
      "source": [
        "# Load metadata about speakers\n",
        "parquet_path = 'drive/Shareddrives/Ada-The data collectivists/datasets/speaker_attributes.parquet'\n",
        "\n",
        "\n",
        "def extract_metadata(parquet_path):\n",
        "  \"\"\"\n",
        "    Processes speakers attributes from Wikidata parquet path, selects specific attributes and returns handable\n",
        "  \"\"\"\n",
        "  df_metadata = pd.read_parquet(parquet_path)\n",
        "  columns_of_interest = ['id', 'label', 'ethnic_group', 'religion', 'gender', 'nationality', 'date_of_birth' , 'occupation' , 'party']\n",
        "  dfm = df_metadata[columns_of_interest]\n",
        "  crucial_columns = ['id', 'label', 'date_of_birth']\n",
        "\n",
        "  for column in dfm.columns:\n",
        "    if column in crucial_columns:\n",
        "      # delete rows with empty label, ID or date of birth (as we will later only need quotes from contemporary, e.g. not George Washington)\n",
        "      dfm = dfm[~dfm[column].map(lambda x: x is None)]\n",
        "    else:\n",
        "      # select non-None rows\n",
        "      none_index = dfm[column].map(lambda x: x is None)\n",
        "      # When several attributes in one column, only keep the first\n",
        "      dfm.loc[~none_index, column] = dfm.loc[~none_index, column].map(lambda x: x[0])\n",
        "\n",
        "    if column == 'date_of_birth':\n",
        "      # Extract birth year from date_of_birth column\n",
        "      dfm[column] = dfm[column].map(lambda x: x[0].split('-', 1)[0][1:])\n",
        "      # Delete rows for unknown birthdates\n",
        "      dfm = dfm.drop(dfm[dfm[column]==''].index)\n",
        "      # Convert birth year to float\n",
        "      dfm[column] = dfm[column].astype('float64')\n",
        "\n",
        "  return dfm\n",
        "\n",
        "dfm = extract_metadata(parquet_path)\n",
        "dfm.head(5)"
      ],
      "metadata": {
        "id": "PuKa2_-UmpfO",
        "colab": {
          "base_uri": "https://localhost:8080/",
          "height": 319
        },
        "outputId": "29a5316c-6597-4cea-ee08-079f0c49f7ac"
      },
      "execution_count": 14,
      "outputs": [
        {
          "output_type": "execute_result",
          "data": {
            "text/html": [
              "\n",
              "  <div id=\"df-4a553f76-1df1-49a2-8a8f-0d0d5aea2fe8\">\n",
              "    <div class=\"colab-df-container\">\n",
              "      <div>\n",
              "<style scoped>\n",
              "    .dataframe tbody tr th:only-of-type {\n",
              "        vertical-align: middle;\n",
              "    }\n",
              "\n",
              "    .dataframe tbody tr th {\n",
              "        vertical-align: top;\n",
              "    }\n",
              "\n",
              "    .dataframe thead th {\n",
              "        text-align: right;\n",
              "    }\n",
              "</style>\n",
              "<table border=\"1\" class=\"dataframe\">\n",
              "  <thead>\n",
              "    <tr style=\"text-align: right;\">\n",
              "      <th></th>\n",
              "      <th>id</th>\n",
              "      <th>label</th>\n",
              "      <th>ethnic_group</th>\n",
              "      <th>religion</th>\n",
              "      <th>gender</th>\n",
              "      <th>nationality</th>\n",
              "      <th>date_of_birth</th>\n",
              "      <th>occupation</th>\n",
              "      <th>party</th>\n",
              "    </tr>\n",
              "  </thead>\n",
              "  <tbody>\n",
              "    <tr>\n",
              "      <th>0</th>\n",
              "      <td>Q23</td>\n",
              "      <td>George Washington</td>\n",
              "      <td>None</td>\n",
              "      <td>Q682443</td>\n",
              "      <td>Q6581097</td>\n",
              "      <td>Q161885</td>\n",
              "      <td>1732.0</td>\n",
              "      <td>Q82955</td>\n",
              "      <td>Q327591</td>\n",
              "    </tr>\n",
              "    <tr>\n",
              "      <th>1</th>\n",
              "      <td>Q42</td>\n",
              "      <td>Douglas Adams</td>\n",
              "      <td>Q7994501</td>\n",
              "      <td>None</td>\n",
              "      <td>Q6581097</td>\n",
              "      <td>Q145</td>\n",
              "      <td>1952.0</td>\n",
              "      <td>Q214917</td>\n",
              "      <td>None</td>\n",
              "    </tr>\n",
              "    <tr>\n",
              "      <th>2</th>\n",
              "      <td>Q1868</td>\n",
              "      <td>Paul Otlet</td>\n",
              "      <td>None</td>\n",
              "      <td>None</td>\n",
              "      <td>Q6581097</td>\n",
              "      <td>Q31</td>\n",
              "      <td>1868.0</td>\n",
              "      <td>Q36180</td>\n",
              "      <td>None</td>\n",
              "    </tr>\n",
              "    <tr>\n",
              "      <th>3</th>\n",
              "      <td>Q207</td>\n",
              "      <td>George W. Bush</td>\n",
              "      <td>None</td>\n",
              "      <td>Q329646</td>\n",
              "      <td>Q6581097</td>\n",
              "      <td>Q30</td>\n",
              "      <td>1946.0</td>\n",
              "      <td>Q82955</td>\n",
              "      <td>Q29468</td>\n",
              "    </tr>\n",
              "    <tr>\n",
              "      <th>4</th>\n",
              "      <td>Q297</td>\n",
              "      <td>Diego Velázquez</td>\n",
              "      <td>None</td>\n",
              "      <td>None</td>\n",
              "      <td>Q6581097</td>\n",
              "      <td>Q29</td>\n",
              "      <td>1599.0</td>\n",
              "      <td>Q1028181</td>\n",
              "      <td>None</td>\n",
              "    </tr>\n",
              "  </tbody>\n",
              "</table>\n",
              "</div>\n",
              "      <button class=\"colab-df-convert\" onclick=\"convertToInteractive('df-4a553f76-1df1-49a2-8a8f-0d0d5aea2fe8')\"\n",
              "              title=\"Convert this dataframe to an interactive table.\"\n",
              "              style=\"display:none;\">\n",
              "        \n",
              "  <svg xmlns=\"http://www.w3.org/2000/svg\" height=\"24px\"viewBox=\"0 0 24 24\"\n",
              "       width=\"24px\">\n",
              "    <path d=\"M0 0h24v24H0V0z\" fill=\"none\"/>\n",
              "    <path d=\"M18.56 5.44l.94 2.06.94-2.06 2.06-.94-2.06-.94-.94-2.06-.94 2.06-2.06.94zm-11 1L8.5 8.5l.94-2.06 2.06-.94-2.06-.94L8.5 2.5l-.94 2.06-2.06.94zm10 10l.94 2.06.94-2.06 2.06-.94-2.06-.94-.94-2.06-.94 2.06-2.06.94z\"/><path d=\"M17.41 7.96l-1.37-1.37c-.4-.4-.92-.59-1.43-.59-.52 0-1.04.2-1.43.59L10.3 9.45l-7.72 7.72c-.78.78-.78 2.05 0 2.83L4 21.41c.39.39.9.59 1.41.59.51 0 1.02-.2 1.41-.59l7.78-7.78 2.81-2.81c.8-.78.8-2.07 0-2.86zM5.41 20L4 18.59l7.72-7.72 1.47 1.35L5.41 20z\"/>\n",
              "  </svg>\n",
              "      </button>\n",
              "      \n",
              "  <style>\n",
              "    .colab-df-container {\n",
              "      display:flex;\n",
              "      flex-wrap:wrap;\n",
              "      gap: 12px;\n",
              "    }\n",
              "\n",
              "    .colab-df-convert {\n",
              "      background-color: #E8F0FE;\n",
              "      border: none;\n",
              "      border-radius: 50%;\n",
              "      cursor: pointer;\n",
              "      display: none;\n",
              "      fill: #1967D2;\n",
              "      height: 32px;\n",
              "      padding: 0 0 0 0;\n",
              "      width: 32px;\n",
              "    }\n",
              "\n",
              "    .colab-df-convert:hover {\n",
              "      background-color: #E2EBFA;\n",
              "      box-shadow: 0px 1px 2px rgba(60, 64, 67, 0.3), 0px 1px 3px 1px rgba(60, 64, 67, 0.15);\n",
              "      fill: #174EA6;\n",
              "    }\n",
              "\n",
              "    [theme=dark] .colab-df-convert {\n",
              "      background-color: #3B4455;\n",
              "      fill: #D2E3FC;\n",
              "    }\n",
              "\n",
              "    [theme=dark] .colab-df-convert:hover {\n",
              "      background-color: #434B5C;\n",
              "      box-shadow: 0px 1px 3px 1px rgba(0, 0, 0, 0.15);\n",
              "      filter: drop-shadow(0px 1px 2px rgba(0, 0, 0, 0.3));\n",
              "      fill: #FFFFFF;\n",
              "    }\n",
              "  </style>\n",
              "\n",
              "      <script>\n",
              "        const buttonEl =\n",
              "          document.querySelector('#df-4a553f76-1df1-49a2-8a8f-0d0d5aea2fe8 button.colab-df-convert');\n",
              "        buttonEl.style.display =\n",
              "          google.colab.kernel.accessAllowed ? 'block' : 'none';\n",
              "\n",
              "        async function convertToInteractive(key) {\n",
              "          const element = document.querySelector('#df-4a553f76-1df1-49a2-8a8f-0d0d5aea2fe8');\n",
              "          const dataTable =\n",
              "            await google.colab.kernel.invokeFunction('convertToInteractive',\n",
              "                                                     [key], {});\n",
              "          if (!dataTable) return;\n",
              "\n",
              "          const docLinkHtml = 'Like what you see? Visit the ' +\n",
              "            '<a target=\"_blank\" href=https://colab.research.google.com/notebooks/data_table.ipynb>data table notebook</a>'\n",
              "            + ' to learn more about interactive tables.';\n",
              "          element.innerHTML = '';\n",
              "          dataTable['output_type'] = 'display_data';\n",
              "          await google.colab.output.renderOutput(dataTable, element);\n",
              "          const docLink = document.createElement('div');\n",
              "          docLink.innerHTML = docLinkHtml;\n",
              "          element.appendChild(docLink);\n",
              "        }\n",
              "      </script>\n",
              "    </div>\n",
              "  </div>\n",
              "  "
            ],
            "text/plain": [
              "      id              label ethnic_group  ... date_of_birth occupation    party\n",
              "0    Q23  George Washington         None  ...        1732.0     Q82955  Q327591\n",
              "1    Q42      Douglas Adams     Q7994501  ...        1952.0    Q214917     None\n",
              "2  Q1868         Paul Otlet         None  ...        1868.0     Q36180     None\n",
              "3   Q207     George W. Bush         None  ...        1946.0     Q82955   Q29468\n",
              "4   Q297    Diego Velázquez         None  ...        1599.0   Q1028181     None\n",
              "\n",
              "[5 rows x 9 columns]"
            ]
          },
          "metadata": {},
          "execution_count": 14
        }
      ]
    },
    {
      "cell_type": "markdown",
      "source": [
        "Before anything else, adding the metadata allows us to get rid of non plausible quotes from the quotes dataframe, i.e. quotes related to speakers born before 1910 (we asssume that there can still be living centenarians).\n"
      ],
      "metadata": {
        "id": "-cnkoBROoo_3"
      }
    },
    {
      "cell_type": "code",
      "source": [
        "# Some little helper functions\n",
        "def get_hate_speakers(df_quotes, df_metadata):\n",
        "  \"\"\"\n",
        "    Returns dataframe extract from the metdata\n",
        "  \"\"\"\n",
        "  hate_speakers = df_metadata[df_metadata['id'].isin(df_quotes.qids.unique())]\n",
        "  return hate_speakers\n",
        "\n",
        "def clean_plausible_quotes(df_quotes, df_metadata):\n",
        "  \"\"\"\n",
        "    Deletes non plausible quotes, i.e. quotes from speakers that were born before 1910 or speakers whose date of birth is not known\n",
        "  \"\"\"\n",
        "  hate_speakers = get_hate_speakers(df_quotes, df_metadata)\n",
        "  non_plausible = hate_speakers.query('date_of_birth < 1910').id\n",
        "  return df_quotes.drop(df_quotes[df_quotes['qids'].isin(non_plausible)].index)\n",
        "\n",
        "\n",
        "df = clean_plausible_quotes(df, dfm)"
      ],
      "metadata": {
        "id": "jpmDDixmm209"
      },
      "execution_count": 15,
      "outputs": []
    },
    {
      "cell_type": "markdown",
      "source": [
        "Now we can look at the attributes distributions. The most delicate ones are gender, nationality, ethnic group, religion and party. Let's verify how much (or how not much) represented they are.\n",
        "\n"
      ],
      "metadata": {
        "id": "61HcPs6euY91"
      }
    },
    {
      "cell_type": "code",
      "source": [
        "class WikidataHTMLParser(HTMLParser):\n",
        "    def handle_starttag(self, tag, attrs):\n",
        "        if(tag == 'meta'):\n",
        "          property_tuples = [item for item in attrs if item[0] == 'property']\n",
        "          if len(property_tuples) == 1 and (property_tuples[0][1] == 'og:title'):\n",
        "            self.data = attrs[1][1]\n",
        "\n",
        "def translateQid(qid):\n",
        "  response = requests.get(url='https://www.wikidata.org/wiki/'+ qid)\n",
        "  parser = WikidataHTMLParser()\n",
        "  parser.feed(response.text)\n",
        "  return parser.data\n",
        "\n",
        "def evaluate_column_value(column_name):\n",
        "  defined_value = hate_speakers[~hate_speakers[column_name].isnull()]\n",
        "  instance_list = (defined_value.drop_duplicates(subset = [column_name]))[column_name].tolist()\n",
        "  instance_amounts = defined_value.pivot_table(columns=[column_name], aggfunc='size').tolist()\n",
        "  instance_list =  [translateQid(qid) for qid in instance_list]\n",
        "  zip_iterator = zip(instance_list, instance_amounts)\n",
        "  repartition = dict(zip_iterator)\n",
        "  print(repartition)\n",
        "  return pd.DataFrame(list(repartition.items()), index = repartition.keys())\n",
        "\n",
        "hate_speakers = get_hate_speakers(df, dfm)\n",
        "\n",
        "column_names = ['ethnic_group', 'religion', 'gender', 'nationality','party']\n",
        "for name in column_names:\n",
        "  print(name)\n",
        "  column_repartition = evaluate_column_value(name)"
      ],
      "metadata": {
        "id": "gedfMUsPsAXz",
        "colab": {
          "base_uri": "https://localhost:8080/"
        },
        "outputId": "cf8e1409-bf59-4a00-be83-653b21a2b1e5"
      },
      "execution_count": null,
      "outputs": [
        {
          "output_type": "stream",
          "name": "stdout",
          "text": [
            "ethnic_group\n",
            "{'Gujarati people': 2, 'African Americans': 2, 'Irish people': 1, 'Jews': 1, 'Turkish American': 1, 'Edo people': 1, 'Irish Americans': 1, 'Scottish American': 1, 'Britons': 1, 'German Brazilians': 1, 'Polish American': 1, 'White British': 1, 'Hausa people': 1, 'Indigenous Australians': 2, 'Maltese American': 1, 'Italian Argentines': 1, 'American Jews': 1, 'Sindhis': 1, 'mixed race people': 1, 'Yoruba people': 4, 'Thai people': 1, 'Copts': 1, 'Italian American': 2, 'Croats': 1, 'white Americans': 1, 'Igbo people': 1, 'Armenian American': 1, 'South Asian American': 2, 'Colombian American': 1, 'Sikh': 1, 'Serbs': 1, 'Slovenes': 1, 'Hungarians': 2, 'Cuban American': 82, 'Navajo': 1, 'French': 1, 'Persians': 3, 'Japanese people': 7, 'English people': 2, 'Visayans': 1, 'Chinese Americans': 2}\n",
            "religion\n",
            "{'Hinduism': 1, 'Baptists': 1, 'Catholicism': 1, 'Lutheranism': 1, 'Judaism': 1, 'Islam': 3, 'Christianity': 2, 'atheism': 1, 'agnosticism': 1, 'Catholic Church': 3, 'Methodism': 11, 'Southern Baptist Convention': 1, 'Evangelical': 1, 'Roman Catholic': 4, 'Anglicanism': 2, 'Scientology': 1, 'Buddhism': 3, 'Presbyterianism': 1, 'Gaudiya Vaishnavism': 22, 'Church of England': 1, 'Sunni Islam': 3, 'Seventh-day Adventist Church': 9, 'Protestantism': 1, 'deism': 1, 'Coptic Orthodox Church': 6, 'Christian': 1, 'Unitarian Universalism': 12, 'Muslim': 1, 'Eastern Orthodoxy': 2, 'Sikhism': 2, 'Greek Orthodox Church': 8, 'Serbian Orthodox Church': 1, 'atheist': 4, 'Mormonism': 15, 'Coptic Christianity': 19, 'Shia Islam': 1, 'Rastafari movement': 5, 'evangelism': 1, 'Latin Church': 17}\n",
            "gender\n",
            "{'male': 5, 'female': 1, 'transgender female': 2, 'non-binary': 1, 'genderfluid': 1, 'shemale': 5, 'transgender male': 234, 'genderqueer': 684}\n",
            "nationality\n",
            "{'India': 2, 'United States of America': 7, 'United Kingdom': 1, 'Ireland': 1, 'Germany': 18, 'Nigeria': 113, 'Australia': 2, 'France': 1, 'South Africa': 23, 'Turkey': 1, 'Canada': 8, 'New Zealand': 1, 'Brazil': 1, 'Japan': 1, 'Spain': 1, 'Syria': 1, 'Pakistan': 5, 'Iran': 11, 'Indonesia': 2, 'Somalia': 4, 'Italy': 2, 'Argentina': 503, 'Malaysia': 1, 'Afghanistan': 1, 'Philippines': 1, 'Austria': 1, 'Egypt': 4, 'Papua New Guinea': 2, 'Hungary': 3, 'Haiti': 86, 'Sweden': 4, 'Eritrea': 1, 'Trinidad and Tobago': 11, 'Vatican City': 28, 'Switzerland': 2, 'Singapore': 1, 'Russia': 1, 'South Korea': 1, 'Niger': 1, 'Socialist Federal Republic of Yugoslavia': 3, 'Slovenia': 1, 'Dominican Republic': 4, 'Lebanon': 1, 'Venezuela': 1, 'Belgium': 1, 'Kingdom of the Netherlands': 2, 'Colombia': 1, 'Denmark': 1, 'England': 1, 'Taiwan': 1, 'Ethiopia': 2, 'Tunisia': 1, 'Czech Republic': 1}\n",
            "party\n",
            "{'Bharatiya Janata Party': 2, 'Social Democratic Party of Germany': 6, 'Conservative Party': 1, 'Democratic Party': 1, 'French Communist Party': 1, 'African National Congress': 1, 'Republican Party': 2, 'Democratic Socialists of America': 1, 'Fine Gael': 1, 'La République En Marche': 1, 'Coalition Avenir Québec': 1, 'Liberal Party of Canada': 1, 'New Zealand Labour Party': 3, 'Democratic Party of Oregon': 1, 'Minnesota Democratic–Farmer–Labor Party': 1, 'Australian Labor Party': 1, 'Liberal Democratic Party': 1, 'Liberal Party of Australia': 2, 'Scottish Liberal Democrats': 2, 'All Progressives Congress': 7, 'Labour Party': 1, \"People's Party\": 1, 'National Rally': 1, 'Christian Democratic Union': 1, 'Congress for Progressive Change': 4, 'Pakistan Peoples Party': 1, 'Alberta New Democratic Party': 1, 'United Malays National Organisation': 70, 'Conservative Party of Canada': 69, 'independent politician': 1, 'Shiv Sena': 1, 'Social Democratic Party of Austria': 1, \"People's National Congress Party\": 3, 'Peoples Democratic Party': 1, 'Liberal National Party of Queensland': 1, 'Indian National Congress': 1, 'Arab Socialist Union': 1, 'Liberal Democrats': 3, 'Communist Party USA': 2, 'Action démocratique du Québec': 2, \"People's Action Party\": 1, 'Austrian Freedom Party': 1, 'Nigerien Party for Democracy and Socialism': 1, 'Labour Co-operative': 1, 'Islamic Republican Party': 1, \"People's Party for Freedom and Democracy\": 1, 'California Republican Party': 1, 'Australian Labor Party (Victorian Branch)': 1, 'Partido Demokratiko Pilipino–Lakas ng Bayan': 1, 'Sinn Féin': 1, 'UK Independence Party': 1, \"Jammu and Kashmir People's Democratic Party\": 1, 'Kuomintang': 13, \"Tigray People's Liberation Front\": 7}\n"
          ]
        }
      ]
    },
    {
      "cell_type": "markdown",
      "source": [
        "To summarize this, let's see how many different values there are, and how many defined values there are for each:"
      ],
      "metadata": {
        "id": "KgECEvl6DyqN"
      }
    },
    {
      "cell_type": "code",
      "source": [
        "column_names = ['ethnic_group', 'religion', 'gender', 'nationality','party']\n",
        "for name in column_names:\n",
        "  defined_value = hate_speakers[~hate_speakers[name].isnull()]\n",
        "  print(f\"{name}: attribute defined for {len(defined_value)} | {len(defined_value[name].unique())} different values\")"
      ],
      "metadata": {
        "colab": {
          "base_uri": "https://localhost:8080/"
        },
        "id": "-QfKyNv5DuKe",
        "outputId": "1aa9e589-4078-4a66-98a6-b9cc27e334d4"
      },
      "execution_count": null,
      "outputs": [
        {
          "output_type": "stream",
          "name": "stdout",
          "text": [
            "ethnic_group: attribute defined for 141 | 41 different values\n",
            "religion: attribute defined for 171 | 39 different values\n",
            "gender: attribute defined for 933 | 8 different values\n",
            "nationality: attribute defined for 879 | 53 different values\n",
            "party: attribute defined for 240 | 57 different values\n"
          ]
        }
      ]
    },
    {
      "cell_type": "code",
      "source": [
        "print(f\"As a reminder, we are now dealing with {len(df)} quotes ...\")"
      ],
      "metadata": {
        "colab": {
          "base_uri": "https://localhost:8080/"
        },
        "id": "F4KWMr2NE-5o",
        "outputId": "19496630-82ee-4851-d499-c61a85659240"
      },
      "execution_count": null,
      "outputs": [
        {
          "output_type": "stream",
          "name": "stdout",
          "text": [
            "As a reminder, we are now dealing with 1439 quotes ...\n"
          ]
        }
      ]
    },
    {
      "cell_type": "markdown",
      "source": [
        "So we observe that, as we hypothesized, some attributes are not very relevant as they are not representated for the majority of the speakers. This concerns especially ethnic group, religion and political party, so we will not try to draw conclusions from these attributes.\n",
        "\n",
        "\n",
        "But it's not the only comment we can make from these observations. A reason why it would be hard to cluster the quotes to simple, englobing categories of speakers, is because there are several dozens of different values for each category, which makes that the speakers are very diverse! Let's have another look:"
      ],
      "metadata": {
        "id": "VXl_jBnblrg7"
      }
    },
    {
      "cell_type": "code",
      "source": [
        "ethnic_groups = evaluate_column_value('ethnic_group')\n",
        "ethnic_groups.sort_values(by = 1, ascending = False)[1]"
      ],
      "metadata": {
        "colab": {
          "base_uri": "https://localhost:8080/"
        },
        "id": "Ap7BtJUFIKYv",
        "outputId": "ba8191d2-decf-4db0-b61e-19ce03c9088d"
      },
      "execution_count": null,
      "outputs": [
        {
          "output_type": "stream",
          "name": "stdout",
          "text": [
            "{'Gujarati people': 2, 'African Americans': 2, 'Irish people': 1, 'Jews': 1, 'Turkish American': 1, 'Edo people': 1, 'Irish Americans': 1, 'Scottish American': 1, 'Britons': 1, 'German Brazilians': 1, 'Polish American': 1, 'White British': 1, 'Hausa people': 1, 'Indigenous Australians': 2, 'Maltese American': 1, 'Italian Argentines': 1, 'American Jews': 1, 'Sindhis': 1, 'mixed race people': 1, 'Yoruba people': 4, 'Thai people': 1, 'Copts': 1, 'Italian American': 2, 'Croats': 1, 'white Americans': 1, 'Igbo people': 1, 'Armenian American': 1, 'South Asian American': 2, 'Colombian American': 1, 'Sikh': 1, 'Serbs': 1, 'Slovenes': 1, 'Hungarians': 2, 'Cuban American': 82, 'Navajo': 1, 'French': 1, 'Persians': 3, 'Japanese people': 7, 'English people': 2, 'Visayans': 1, 'Chinese Americans': 2}\n"
          ]
        },
        {
          "output_type": "execute_result",
          "data": {
            "text/plain": [
              "Cuban American            82\n",
              "Japanese people            7\n",
              "Yoruba people              4\n",
              "Persians                   3\n",
              "Gujarati people            2\n",
              "Indigenous Australians     2\n",
              "English people             2\n",
              "Hungarians                 2\n",
              "South Asian American       2\n",
              "Italian American           2\n",
              "African Americans          2\n",
              "Chinese Americans          2\n",
              "Hausa people               1\n",
              "Scottish American          1\n",
              "Visayans                   1\n",
              "Irish people               1\n",
              "Jews                       1\n",
              "Turkish American           1\n",
              "French                     1\n",
              "Navajo                     1\n",
              "Edo people                 1\n",
              "Irish Americans            1\n",
              "Slovenes                   1\n",
              "Serbs                      1\n",
              "Sikh                       1\n",
              "Colombian American         1\n",
              "Armenian American          1\n",
              "White British              1\n",
              "Igbo people                1\n",
              "white Americans            1\n",
              "Croats                     1\n",
              "Britons                    1\n",
              "Copts                      1\n",
              "German Brazilians          1\n",
              "Polish American            1\n",
              "mixed race people          1\n",
              "Sindhis                    1\n",
              "American Jews              1\n",
              "Italian Argentines         1\n",
              "Maltese American           1\n",
              "Thai people                1\n",
              "Name: 1, dtype: int64"
            ]
          },
          "metadata": {},
          "execution_count": 33
        }
      ]
    },
    {
      "cell_type": "markdown",
      "source": [
        "Looking more closely at the values, we notice that, for example, the most present ethnic groups are Cuban Americans, which is surprising and would most probably stem from previous filtering. The same goes even for the attributes we thought would be more useful, like gender and nationality: the most present values are groups that are usually minorities. It is striking in the case of gender: speakers labeled as male are 5, speakers labeled as women are actually one, but there are 234 speakers labeled as transgender male and 684 speakers labeled as genderqueer. This first rises the question: are minorities more hateful? A question to which we could bring the following solutions: either our hate speech filters is not specific enough, or minorities aren't hateful per se but would tend to use more offensive language, and thus be detected as hateful speakers. One reason often studied is the reappropriation of insults, for example in the context of [LGBTQI+ movements](https://journals.sagepub.com/doi/full/10.1177/0261927X20967394?casa_token=QToOY04TNn0AAAAA%3AFKht680oUFkjlaT2bx-gjGYeZaje78x_Yq31q4yCBGLVpj9grsuT0dCmyo3ykZgtE3lFUyOKq0Aq9ik) or in the language used in rap music. More genereally, it opens to the fact that not all offensive speech is intended as directly hateful, [a problem often encountered with automated speech detection](https://arxiv.org/abs/1703.04009)."
      ],
      "metadata": {
        "id": "J7uIQ28uIMj9"
      }
    },
    {
      "cell_type": "markdown",
      "metadata": {
        "id": "EqK7f1UXJJ1P"
      },
      "source": [
        "# **Section 2 : Data Analysis**"
      ]
    },
    {
      "cell_type": "markdown",
      "metadata": {
        "id": "Mgh6CfyWJjQf"
      },
      "source": [
        "## 1. Hypotheses"
      ]
    },
    {
      "cell_type": "markdown",
      "metadata": {
        "id": "3fmzbsuUdIZl"
      },
      "source": [
        "## Hate speech is on the rise since 2016\n",
        "\n",
        "### 1.1 Simple evolution (occurence per year)"
      ]
    },
    {
      "cell_type": "code",
      "execution_count": 41,
      "metadata": {
        "id": "dx27UkTn9oDl"
      },
      "outputs": [],
      "source": [
        "input_path = \"/content/drive/Shareddrives/Ada-The data collectivists/data/\"\n",
        "tail_output = \".csv\"\n",
        "FF = \"df_FF/df_FF\"\n",
        "SF = \"df_SF/df_SF\"\n",
        "preprocessed_path = input_path + FF \n",
        "preprocessed_hate_path = input_path + SF\n",
        "\n",
        "years = [\"2016\", \"2017\", \"2018\", \"2019\", \"2020\"]"
      ]
    },
    {
      "cell_type": "code",
      "execution_count": 42,
      "metadata": {
        "id": "UoDg1u00dH60"
      },
      "outputs": [],
      "source": [
        "def add_date_details(df):\n",
        "  \"\"\"\n",
        "      Add date details about year, month, and year-month in the dataframe.\n",
        "  \"\"\"\n",
        "\n",
        "  df['year'] = pd.DatetimeIndex(df['date']).year\n",
        "  df['month'] = pd.DatetimeIndex(df['date']).month\n",
        "  df['month_year'] = pd.to_datetime(df['date']).dt.to_period('M')\n",
        "\n",
        "  return df\n",
        "\n",
        "def hate_proportion_per_year():\n",
        "  \"\"\"\n",
        "    Return statistics of hate quotes per year in a dataframe.\n",
        "  \"\"\"\n",
        "  n_total = []\n",
        "  n_occ_total = []\n",
        "  n_max_occ = []\n",
        "  mean_occ = []\n",
        "  proportion = []\n",
        "\n",
        "  month_year = df_filter_hate[\"month_year\"].unique()\n",
        "\n",
        "  for year in years:\n",
        "    first_filter_tmp = pd.read_csv(preprocessed_path + year + tail_output, encoding = \"utf-8\")\n",
        "    filter_hate_tmp = df_filter_hate.query(\"year == @year\")\n",
        "    # filter_hate_tmp = pd.read_csv(preprocessed_hate_path + year + tail_output, encoding = \"utf-8\")\n",
        "\n",
        "    first_filter_tmp['month'] = pd.DatetimeIndex(first_filter_tmp['date']).month\n",
        "\n",
        "    months = filter_hate_tmp[\"month\"].unique()\n",
        "\n",
        "    for month in months:\n",
        "      hate_tmp = filter_hate_tmp.query(\"month == @month\")\n",
        "      filter_tmp = first_filter_tmp.query(\"month == @month\")\n",
        "\n",
        "      n_total.append(hate_tmp[\"quotation\"].nunique())\n",
        "\n",
        "      n_occ_total.append(hate_tmp[\"numOccurrences\"].agg(\"sum\"))\n",
        "\n",
        "      n_max_occ.append(hate_tmp[\"numOccurrences\"].agg(\"max\"))\n",
        "\n",
        "      mean_occ.append(hate_tmp[\"numOccurrences\"].agg(\"mean\"))\n",
        "\n",
        "      if len(filter_tmp) != 0:\n",
        "        proportion.append(len(hate_tmp) / len(filter_tmp))\n",
        "      else:\n",
        "        proportion.append(None)\n",
        "\n",
        "  df_occ = pd.DataFrame({\"number of quotes\":n_total, \"Total number of occurences\": n_occ_total,\n",
        "                        \"Maximum number of relay\": n_max_occ, \"Proportion of hate\": proportion,\n",
        "                        \"Mean number of occurrences\": mean_occ}, index = month_year).fillna(0)\n",
        "\n",
        "  return df_occ\n",
        "\n",
        "def plot_occurrence_stats(df):\n",
        "  \"\"\"\n",
        "      Plot statistics resulting from the method hate_proportion_per_year.\n",
        "  \"\"\"\n",
        "\n",
        "  n_col = len(df.columns)\n",
        "  columns = df.columns.values\n",
        "  fig, axs = plt.subplots(n_col//2, n_col//2 + 1, figsize=(20, 10))\n",
        "  axs = axs.ravel()\n",
        "\n",
        "  for index, name in enumerate(columns):\n",
        "    sns.barplot(ax=axs[index], x=df.index, y = df[name].values, palette = \"Blues_d\")\n",
        "    axs[index].set_title(name)"
      ]
    },
    {
      "cell_type": "code",
      "source": [
        "df_filter_hate = pd.read_csv(preprocessed_hate_path + tail_output, encoding = \"utf-8\")\n",
        "df_filter_hate = add_date_details(df_filter_hate) \n",
        "df_filter_hate.head()"
      ],
      "metadata": {
        "colab": {
          "base_uri": "https://localhost:8080/",
          "height": 496
        },
        "id": "WhLsiLvcPYve",
        "outputId": "af07ece3-b5fc-45c1-ad82-89a349746577"
      },
      "execution_count": 43,
      "outputs": [
        {
          "output_type": "execute_result",
          "data": {
            "text/html": [
              "\n",
              "  <div id=\"df-68427b5e-a890-4f9d-ae35-c3fe03444958\">\n",
              "    <div class=\"colab-df-container\">\n",
              "      <div>\n",
              "<style scoped>\n",
              "    .dataframe tbody tr th:only-of-type {\n",
              "        vertical-align: middle;\n",
              "    }\n",
              "\n",
              "    .dataframe tbody tr th {\n",
              "        vertical-align: top;\n",
              "    }\n",
              "\n",
              "    .dataframe thead th {\n",
              "        text-align: right;\n",
              "    }\n",
              "</style>\n",
              "<table border=\"1\" class=\"dataframe\">\n",
              "  <thead>\n",
              "    <tr style=\"text-align: right;\">\n",
              "      <th></th>\n",
              "      <th>Unnamed: 0</th>\n",
              "      <th>Unnamed: 0.1</th>\n",
              "      <th>quoteID</th>\n",
              "      <th>quotation</th>\n",
              "      <th>speaker</th>\n",
              "      <th>qids</th>\n",
              "      <th>date</th>\n",
              "      <th>numOccurrences</th>\n",
              "      <th>probas</th>\n",
              "      <th>urls</th>\n",
              "      <th>is_about_nationality</th>\n",
              "      <th>is_about_ethnicity</th>\n",
              "      <th>is_about_religion</th>\n",
              "      <th>is_about_gender</th>\n",
              "      <th>is_about_sexual_orientation</th>\n",
              "      <th>is_about_disability</th>\n",
              "      <th>is_about_class</th>\n",
              "      <th>number_of_sightings</th>\n",
              "      <th>year</th>\n",
              "      <th>month</th>\n",
              "      <th>month_year</th>\n",
              "    </tr>\n",
              "  </thead>\n",
              "  <tbody>\n",
              "    <tr>\n",
              "      <th>0</th>\n",
              "      <td>384</td>\n",
              "      <td>21207</td>\n",
              "      <td>2019-09-06-048692</td>\n",
              "      <td>it celebrates the queer community within fash...</td>\n",
              "      <td>Suhaly Bautista-Carolina</td>\n",
              "      <td>Q43380935</td>\n",
              "      <td>2019-09-06 00:00:00</td>\n",
              "      <td>43</td>\n",
              "      <td>0.8508</td>\n",
              "      <td>['http://www.dailyherald.com/article/20190906/...</td>\n",
              "      <td>0.0</td>\n",
              "      <td>0.0</td>\n",
              "      <td>0.0</td>\n",
              "      <td>0.0</td>\n",
              "      <td>1.0</td>\n",
              "      <td>0.0</td>\n",
              "      <td>0.0</td>\n",
              "      <td>940.0</td>\n",
              "      <td>2019</td>\n",
              "      <td>9</td>\n",
              "      <td>2019-09</td>\n",
              "    </tr>\n",
              "    <tr>\n",
              "      <th>1</th>\n",
              "      <td>3881</td>\n",
              "      <td>218949</td>\n",
              "      <td>2019-04-29-075175</td>\n",
              "      <td>the lamest leastinteresting newfie joke ive h...</td>\n",
              "      <td>Mark Critch</td>\n",
              "      <td>Q6767200</td>\n",
              "      <td>2019-04-29 07:35:00</td>\n",
              "      <td>40</td>\n",
              "      <td>0.8024</td>\n",
              "      <td>['http://timescolonist.com/the-simpsons-takes-...</td>\n",
              "      <td>0.0</td>\n",
              "      <td>0.0</td>\n",
              "      <td>0.0</td>\n",
              "      <td>0.0</td>\n",
              "      <td>0.0</td>\n",
              "      <td>0.0</td>\n",
              "      <td>0.0</td>\n",
              "      <td>101.0</td>\n",
              "      <td>2019</td>\n",
              "      <td>4</td>\n",
              "      <td>2019-04</td>\n",
              "    </tr>\n",
              "    <tr>\n",
              "      <th>2</th>\n",
              "      <td>4559</td>\n",
              "      <td>259043</td>\n",
              "      <td>2019-03-20-074667</td>\n",
              "      <td>queer and ready to party</td>\n",
              "      <td>Miley Cyrus</td>\n",
              "      <td>Q4235</td>\n",
              "      <td>2019-03-20 07:07:00</td>\n",
              "      <td>22</td>\n",
              "      <td>0.7774</td>\n",
              "      <td>['https://www.castanet.net/news/Entertainment/...</td>\n",
              "      <td>0.0</td>\n",
              "      <td>0.0</td>\n",
              "      <td>0.0</td>\n",
              "      <td>0.0</td>\n",
              "      <td>1.0</td>\n",
              "      <td>0.0</td>\n",
              "      <td>0.0</td>\n",
              "      <td>940.0</td>\n",
              "      <td>2019</td>\n",
              "      <td>3</td>\n",
              "      <td>2019-03</td>\n",
              "    </tr>\n",
              "    <tr>\n",
              "      <th>3</th>\n",
              "      <td>4762</td>\n",
              "      <td>270618</td>\n",
              "      <td>2019-06-23-043963</td>\n",
              "      <td>the studio was once a confederate army base w...</td>\n",
              "      <td>Tyler Perry</td>\n",
              "      <td>Q686301</td>\n",
              "      <td>2019-06-23 00:00:00</td>\n",
              "      <td>57</td>\n",
              "      <td>0.6728</td>\n",
              "      <td>['http://dailyherald.com/news/20190623/bet-awa...</td>\n",
              "      <td>0.0</td>\n",
              "      <td>1.0</td>\n",
              "      <td>0.0</td>\n",
              "      <td>0.0</td>\n",
              "      <td>0.0</td>\n",
              "      <td>0.0</td>\n",
              "      <td>0.0</td>\n",
              "      <td>85.0</td>\n",
              "      <td>2019</td>\n",
              "      <td>6</td>\n",
              "      <td>2019-06</td>\n",
              "    </tr>\n",
              "    <tr>\n",
              "      <th>4</th>\n",
              "      <td>7414</td>\n",
              "      <td>421460</td>\n",
              "      <td>2019-06-28-088404</td>\n",
              "      <td>try to do it and i will do it son of a bitch</td>\n",
              "      <td>Rodrigo Duterte</td>\n",
              "      <td>Q457786</td>\n",
              "      <td>2019-06-28 00:00:00</td>\n",
              "      <td>14</td>\n",
              "      <td>0.8400</td>\n",
              "      <td>['https://ewn.co.za/2019/06/28/impeach-me-i-ll...</td>\n",
              "      <td>0.0</td>\n",
              "      <td>0.0</td>\n",
              "      <td>0.0</td>\n",
              "      <td>1.0</td>\n",
              "      <td>0.0</td>\n",
              "      <td>0.0</td>\n",
              "      <td>0.0</td>\n",
              "      <td>1554.0</td>\n",
              "      <td>2019</td>\n",
              "      <td>6</td>\n",
              "      <td>2019-06</td>\n",
              "    </tr>\n",
              "  </tbody>\n",
              "</table>\n",
              "</div>\n",
              "      <button class=\"colab-df-convert\" onclick=\"convertToInteractive('df-68427b5e-a890-4f9d-ae35-c3fe03444958')\"\n",
              "              title=\"Convert this dataframe to an interactive table.\"\n",
              "              style=\"display:none;\">\n",
              "        \n",
              "  <svg xmlns=\"http://www.w3.org/2000/svg\" height=\"24px\"viewBox=\"0 0 24 24\"\n",
              "       width=\"24px\">\n",
              "    <path d=\"M0 0h24v24H0V0z\" fill=\"none\"/>\n",
              "    <path d=\"M18.56 5.44l.94 2.06.94-2.06 2.06-.94-2.06-.94-.94-2.06-.94 2.06-2.06.94zm-11 1L8.5 8.5l.94-2.06 2.06-.94-2.06-.94L8.5 2.5l-.94 2.06-2.06.94zm10 10l.94 2.06.94-2.06 2.06-.94-2.06-.94-.94-2.06-.94 2.06-2.06.94z\"/><path d=\"M17.41 7.96l-1.37-1.37c-.4-.4-.92-.59-1.43-.59-.52 0-1.04.2-1.43.59L10.3 9.45l-7.72 7.72c-.78.78-.78 2.05 0 2.83L4 21.41c.39.39.9.59 1.41.59.51 0 1.02-.2 1.41-.59l7.78-7.78 2.81-2.81c.8-.78.8-2.07 0-2.86zM5.41 20L4 18.59l7.72-7.72 1.47 1.35L5.41 20z\"/>\n",
              "  </svg>\n",
              "      </button>\n",
              "      \n",
              "  <style>\n",
              "    .colab-df-container {\n",
              "      display:flex;\n",
              "      flex-wrap:wrap;\n",
              "      gap: 12px;\n",
              "    }\n",
              "\n",
              "    .colab-df-convert {\n",
              "      background-color: #E8F0FE;\n",
              "      border: none;\n",
              "      border-radius: 50%;\n",
              "      cursor: pointer;\n",
              "      display: none;\n",
              "      fill: #1967D2;\n",
              "      height: 32px;\n",
              "      padding: 0 0 0 0;\n",
              "      width: 32px;\n",
              "    }\n",
              "\n",
              "    .colab-df-convert:hover {\n",
              "      background-color: #E2EBFA;\n",
              "      box-shadow: 0px 1px 2px rgba(60, 64, 67, 0.3), 0px 1px 3px 1px rgba(60, 64, 67, 0.15);\n",
              "      fill: #174EA6;\n",
              "    }\n",
              "\n",
              "    [theme=dark] .colab-df-convert {\n",
              "      background-color: #3B4455;\n",
              "      fill: #D2E3FC;\n",
              "    }\n",
              "\n",
              "    [theme=dark] .colab-df-convert:hover {\n",
              "      background-color: #434B5C;\n",
              "      box-shadow: 0px 1px 3px 1px rgba(0, 0, 0, 0.15);\n",
              "      filter: drop-shadow(0px 1px 2px rgba(0, 0, 0, 0.3));\n",
              "      fill: #FFFFFF;\n",
              "    }\n",
              "  </style>\n",
              "\n",
              "      <script>\n",
              "        const buttonEl =\n",
              "          document.querySelector('#df-68427b5e-a890-4f9d-ae35-c3fe03444958 button.colab-df-convert');\n",
              "        buttonEl.style.display =\n",
              "          google.colab.kernel.accessAllowed ? 'block' : 'none';\n",
              "\n",
              "        async function convertToInteractive(key) {\n",
              "          const element = document.querySelector('#df-68427b5e-a890-4f9d-ae35-c3fe03444958');\n",
              "          const dataTable =\n",
              "            await google.colab.kernel.invokeFunction('convertToInteractive',\n",
              "                                                     [key], {});\n",
              "          if (!dataTable) return;\n",
              "\n",
              "          const docLinkHtml = 'Like what you see? Visit the ' +\n",
              "            '<a target=\"_blank\" href=https://colab.research.google.com/notebooks/data_table.ipynb>data table notebook</a>'\n",
              "            + ' to learn more about interactive tables.';\n",
              "          element.innerHTML = '';\n",
              "          dataTable['output_type'] = 'display_data';\n",
              "          await google.colab.output.renderOutput(dataTable, element);\n",
              "          const docLink = document.createElement('div');\n",
              "          docLink.innerHTML = docLinkHtml;\n",
              "          element.appendChild(docLink);\n",
              "        }\n",
              "      </script>\n",
              "    </div>\n",
              "  </div>\n",
              "  "
            ],
            "text/plain": [
              "   Unnamed: 0  Unnamed: 0.1            quoteID  ...  year month month_year\n",
              "0         384         21207  2019-09-06-048692  ...  2019     9    2019-09\n",
              "1        3881        218949  2019-04-29-075175  ...  2019     4    2019-04\n",
              "2        4559        259043  2019-03-20-074667  ...  2019     3    2019-03\n",
              "3        4762        270618  2019-06-23-043963  ...  2019     6    2019-06\n",
              "4        7414        421460  2019-06-28-088404  ...  2019     6    2019-06\n",
              "\n",
              "[5 rows x 21 columns]"
            ]
          },
          "metadata": {},
          "execution_count": 43
        }
      ]
    },
    {
      "cell_type": "code",
      "source": [
        "df_occ = hate_proportion_per_year()\n",
        "df_occ.head()\n",
        "plot_occurrence_stats(df_occ)"
      ],
      "metadata": {
        "colab": {
          "base_uri": "https://localhost:8080/",
          "height": 442
        },
        "id": "Ri2QMV_vPeyE",
        "outputId": "90ce9369-d8cf-4f78-cd5c-3002fb0aa2e0"
      },
      "execution_count": 44,
      "outputs": [
        {
          "output_type": "display_data",
          "data": {
            "image/png": "[encoded data removed]",
            "text/plain": [
              "<Figure size 1440x720 with 6 Axes>"
            ]
          },
          "metadata": {
            "needs_background": "light"
          }
        }
      ]
    },
    {
      "cell_type": "markdown",
      "metadata": {
        "id": "AJcmlfmcdkCY"
      },
      "source": [
        "### 1.2 Media outlet evolution"
      ]
    },
    {
      "cell_type": "code",
      "execution_count": 46,
      "metadata": {
        "id": "N6GnvEZJdKLU"
      },
      "outputs": [],
      "source": [
        "def extract_domain(df):\n",
        "  # Convert string-formatted list into list\n",
        "  df['urls'] = df['urls'].map(lambda x: ast.literal_eval(x))\n",
        "  # Expand each quote into several rows, one for each URL\n",
        "  df_expanded = df.explode('urls')\n",
        "  # Replace each URL by its domain only\n",
        "  df_expanded['urls'] = df_expanded['urls'].map(lambda x: urlparse(x).netloc)\n",
        "\n",
        "  return df_expanded\n",
        "\n",
        "def occurence_per_outlet_and_year(n_plotted = 10, plot = False):\n",
        "  \"\"\"\n",
        "      Return statistics on the occurrence of hate quotes per media outlet.\n",
        "  \"\"\"\n",
        "\n",
        "  occ_media = pd.DataFrame()\n",
        "  occ_media_total = pd.DataFrame()\n",
        "\n",
        "  for year in years:\n",
        "    first_filter_tmp = pd.read_csv(preprocessed_path + year + tail_output, encoding = \"utf-8\")\n",
        "    filter_hate_tmp = df_filter_hate.query(\"year == @year\") # Before having hate data in .csv\n",
        "    # filter_hate_tmp = pd.read_csv(preprocessed_hate_path + year + tail_output, encoding = \"utf-8\")\n",
        "\n",
        "    # renaming column urls to indicate year of publication\n",
        "    first_filter_tmp = extract_domain(first_filter_tmp)\n",
        "    filter_hate_tmp = extract_domain(filter_hate_tmp)\n",
        "\n",
        "    first_filter_tmp.explode('urls').rename(columns={\"urls\" : \"urls\"+year}, inplace = True)\n",
        "    filter_hate_tmp.explode('urls').rename(columns={\"urls\" : \"urls\"+year}, inplace = True)\n",
        "    \n",
        "    occ_media.append(filter_hate_tmp[\"urls\"+year].value_counts()) \n",
        "    occ_media_total.append(first_filter_tmp[\"urls\"+year].value_counts())\n",
        "\n",
        "  if plot:\n",
        "    plot_occ_media(occ_media.fillna(0), occ_media_total.fillna(0), n_plotted)\n",
        "\n",
        "  return occ_media.fillna(0), occ_media_total.fillna(0)\n",
        "\n",
        "\n",
        "def plot_occ_media(occ_media, occ_media_total, n_plotted = 10):\n",
        "  \"\"\"\n",
        "      Relayed number of hate (versus total) quotes per media outlet (plot only\n",
        "      for outlets that already existed in 2016).\n",
        "  \"\"\"\n",
        "  \n",
        "  first_filter_tmp = pd.read_csv(preprocessed_path + years[0] + tail_output, encoding = \"utf-8\")\n",
        "\n",
        "  # Retrieve unique outlet names\n",
        "  outlet_names = first_filter_tmp[\"urls\"].unique()\n",
        "\n",
        "  # Sampling \"n_plotted\" outlet names\n",
        "  outlet_names_to_plot = np.random.choice(outlet_names, size = n_plotted)\n",
        "\n",
        "  fig, axs = plt.subplots(n_plotted//2, n_plotted//2 + 1, figsize=(10, 10))\n",
        "  axs = axs.ravel()\n",
        "\n",
        "  for index, name in enumerate(outlet_names_to_plot):\n",
        "    sns.histplot(occ_media.loc[name], x = years, ax = axs[index], color = \"\")\n",
        "    sns.histplot(occ_media_total.loc[name], x = years, ax = axs[index], color = \"\")\n",
        "\n",
        "    axs[index].legend[\"Hate quotes\", \"All quotes\"]\n",
        "    axs[index].set_title(name)"
      ]
    },
    {
      "cell_type": "code",
      "execution_count": null,
      "metadata": {
        "id": "FWwcrTBIsjB_"
      },
      "outputs": [],
      "source": [
        "occ_media, occ_media_total = occurence_per_outlet_and_year(n_plotted = 10, plot = True)"
      ]
    },
    {
      "cell_type": "markdown",
      "metadata": {
        "id": "YAa9pmZUdwBt"
      },
      "source": [
        "### 1.3 Speaker evolution"
      ]
    },
    {
      "cell_type": "code",
      "execution_count": null,
      "metadata": {
        "id": "TeaduJOMd3aS"
      },
      "outputs": [],
      "source": [
        "def sentiment_analysis_speaker(speaker_name = None, plot = False):\n",
        "  \"\"\"\n",
        "      Output the sentiment distribution of the quotes of speaker(s) \"speaker_name\".\n",
        "\n",
        "      :param speaker_name: array of speaker name(s).\n",
        "      :param plot: Boolean, the method plot the results if True.\n",
        "\n",
        "      :return sentiment: dataframe with sentiment of quotes of selected speaker(s).\n",
        "      :return mean_sentiment: dataframe with mean sentiment of quotes of each speaker.\n",
        "  \"\"\"\n",
        "\n",
        "  if speaker_name is None:\n",
        "    raise RuntimeError(\"You may want to enter a name of a speaker for this method to work\")\n",
        "\n",
        "  # remove names from list if not present in the dataframe\n",
        "  tmp_names = [name for name in speaker_name if df_filter_hate[\"speaker\"].str.contains(name).any()]\n",
        "  \n",
        "  if not tmp_names:\n",
        "      raise NameError(\"Speakers passed in parameter don't appear in the database\")\n",
        "\n",
        "  sentiment = []\n",
        "  mean_sentiment = []\n",
        "\n",
        "  analyzer = SentimentIntensityAnalyzer()\n",
        "\n",
        "  filter_hate_tmp = df_filter_hate.copy()\n",
        "\n",
        "  # Perform sentiment analysis\n",
        "  quotes = filter_hate_tmp.loc[filter_hate_tmp[\"speaker\"].isin(tmp_names)]\n",
        "\n",
        "  quotes[\"compound_sentiment\"] = quotes[\"quotation\"].map(lambda x: analyzer.polarity_scores(x)['compound'])\n",
        "  quotes[\"compound_sentiment\"] = pd.to_numeric(quotes[\"compound_sentiment\"], downcast=\"float\")\n",
        "\n",
        "  # Compute mean sentiment per speaker\n",
        "  mean_sentiment = quotes[[\"speaker\", \"compound_sentiment\"]].groupby([\"speaker\"]).agg(\"mean\")\n",
        "\n",
        "  # Sentiment of speakers' quotes\n",
        "  quotes[\"compound_sentiment\"] = quotes[\"compound_sentiment\"].map(lambda x : extract_sentiment(x))\n",
        "  sentiment = quotes[[\"speaker\", \"compound_sentiment\"]]\n",
        "\n",
        "  if plot:\n",
        "    plot_sentiment_speaker(sentiment, tmp_names)\n",
        "\n",
        "  return sentiment, mean_sentiment\n",
        "\n",
        "def extract_sentiment(x):\n",
        "  \"\"\"\n",
        "      Extract sentiment of quotes and return dataframe df.\n",
        "        - \"positive\": if sentiment >= 0.05\n",
        "        - \"negative\": if sentiment <= -0.05\n",
        "        - \"neutral\": if -0.05 < sentiment < 0.05 \n",
        "\n",
        "      :param x: sentiment value\n",
        "  \"\"\"\n",
        "\n",
        "  if x >= 0.05:\n",
        "    x = \"positive\"\n",
        "  elif x <= -0.05:\n",
        "    x = \"negative\"\n",
        "  elif x > -0.05 and x < 0.05:\n",
        "    x = \"neutral\"\n",
        "\n",
        "  return x\n",
        "\n",
        "def plot_sentiment_speaker(sentiment_speakers, names):\n",
        "  \"\"\"\n",
        "      Plot the sentiment analysis done in the method sentiment_analysis_speaker.\n",
        "  \"\"\"\n",
        "\n",
        "  labels = sentiment_speakers[\"compound_sentiment\"].unique()\n",
        "  colors = sns.color_palette(\"Paired\")[:2]\n",
        "\n",
        "  fig, axs = plt.subplots(len(names)//2, len(names)//2 + 1, figsize=(20, 10))\n",
        "  axs = axs.ravel()\n",
        "  colors = sns.color_palette(\"Set2\")\n",
        "\n",
        "  for index, name in enumerate(names):\n",
        "    data = sentiment_speakers.query(\"speaker == @name\")[\"compound_sentiment\"].value_counts().reindex(labels, fill_value = 0)\n",
        "    axs[index].pie(data, labels = labels, colors = colors)\n",
        "    axs[index].set_title(name)\n",
        "\n",
        "\n",
        "def speakers_with_max_hate_quotes(method = \"MAX\", N = 10, verbose = False, plot = True):\n",
        "  \"\"\"\n",
        "      Return N speakers with their number of hate quotes for each year.\n",
        "\n",
        "      :param method: if MAX, return speakers with maximum number of quotes\n",
        "                      if SAMPLE, return a sample of speakers with their number of quotes.\n",
        "      :param N: number of speakers to display\n",
        "      :param verbose: Boolean, print intermediate results if True.\n",
        "      :param plot: Boolean, display pie charts of the proportion of hate quotes per speakers\n",
        "                   (MAX = 6).\n",
        "\n",
        "      :return: number of hate quotes for a sample of speakers, or speakers with maximum\n",
        "                number of hate quotes.\n",
        "  \"\"\"\n",
        "\n",
        "  speakers = []\n",
        "  methods = [\"MAX\", \"SAMPLE\"]\n",
        "\n",
        "  if method not in methods:\n",
        "    raise NameError(\"Please provide a correct method name (MAX or SAMPLE).\")\n",
        "  \n",
        "  if plot:\n",
        "    fig, axs = plt.subplots(2, 3, figsize=(20, 10))\n",
        "    axs = axs.ravel()\n",
        "    colors = sns.color_palette(\"Set2\")\n",
        "\n",
        "  for index, year in enumerate(years):\n",
        "    filter_hate_tmp = df_filter_hate.query(\"year == @year\") # Before having hate data in .csv\n",
        "\n",
        "    tmp = filter_hate_tmp[\"speaker\"].value_counts(sort = True)\n",
        "\n",
        "    if method == \"MAX\":\n",
        "      tmp = tmp.head(N)\n",
        "    elif method == \"SAMPLE\":\n",
        "      tmp = tmp.sample(N)\n",
        "    speakers.append(tmp)\n",
        "\n",
        "    if verbose:\n",
        "      print(\"\\n Speakers with {} number of hate quotes for the year \" + year + \":\".format(method))\n",
        "      print(tmp)\n",
        "\n",
        "    if plot:\n",
        "      axs[index].pie(tmp, labels = tmp.index, colors = colors)\n",
        "      axs[index].set_title(\"Year {}\".format(year))\n",
        "\n",
        "  return speakers"
      ]
    },
    {
      "cell_type": "code",
      "source": [
        "names_to_plot = [\"President Donald Trump\", \"Taylor Swift\", \"Salim Mehajer\", \"Rodrigo Duterte\", \"Miley Cyrus\"]\n",
        "sentiment, mean_sentiment = sentiment_analysis_speaker(speaker_name = names_to_plot, plot = True)"
      ],
      "metadata": {
        "colab": {
          "base_uri": "https://localhost:8080/",
          "height": 862
        },
        "id": "9TCcG2LgPw1d",
        "outputId": "61fb2356-dc22-4a83-a609-ca47e8e363ac"
      },
      "execution_count": null,
      "outputs": [
        {
          "output_type": "stream",
          "name": "stderr",
          "text": [
            "/usr/local/lib/python3.7/dist-packages/ipykernel_launcher.py:31: SettingWithCopyWarning: \n",
            "A value is trying to be set on a copy of a slice from a DataFrame.\n",
            "Try using .loc[row_indexer,col_indexer] = value instead\n",
            "\n",
            "See the caveats in the documentation: https://pandas.pydata.org/pandas-docs/stable/user_guide/indexing.html#returning-a-view-versus-a-copy\n",
            "/usr/local/lib/python3.7/dist-packages/ipykernel_launcher.py:32: SettingWithCopyWarning: \n",
            "A value is trying to be set on a copy of a slice from a DataFrame.\n",
            "Try using .loc[row_indexer,col_indexer] = value instead\n",
            "\n",
            "See the caveats in the documentation: https://pandas.pydata.org/pandas-docs/stable/user_guide/indexing.html#returning-a-view-versus-a-copy\n",
            "/usr/local/lib/python3.7/dist-packages/ipykernel_launcher.py:38: SettingWithCopyWarning: \n",
            "A value is trying to be set on a copy of a slice from a DataFrame.\n",
            "Try using .loc[row_indexer,col_indexer] = value instead\n",
            "\n",
            "See the caveats in the documentation: https://pandas.pydata.org/pandas-docs/stable/user_guide/indexing.html#returning-a-view-versus-a-copy\n"
          ]
        },
        {
          "output_type": "display_data",
          "data": {
            "image/png": "[encoded data removed]",
            "text/plain": [
              "<Figure size 1440x720 with 6 Axes>"
            ]
          },
          "metadata": {
            "needs_background": "light"
          }
        }
      ]
    },
    {
      "cell_type": "code",
      "source": [
        "speakers = speakers_with_max_hate_quotes(method = \"MAX\", N = 5, verbose = False, plot = True)"
      ],
      "metadata": {
        "colab": {
          "base_uri": "https://localhost:8080/",
          "height": 607
        },
        "id": "h4wxqA31P643",
        "outputId": "f423f571-ba8f-402d-8b9d-e6b36d7dc3cc"
      },
      "execution_count": null,
      "outputs": [
        {
          "output_type": "display_data",
          "data": {
            "image/png": "[encoded data removed]",
            "text/plain": [
              "<Figure size 1440x720 with 6 Axes>"
            ]
          },
          "metadata": {
            "needs_background": "light"
          }
        }
      ]
    },
    {
      "cell_type": "markdown",
      "source": [
        "### 1.4 Terrorism activism"
      ],
      "metadata": {
        "id": "sILgEJRM-kp_"
      }
    },
    {
      "cell_type": "code",
      "source": [
        "path_csis_folder = \"/content/drive/Shareddrives/Ada-The data collectivists/data/CSIS/\"\n",
        "terrorism_filename = \"csis_wapo_domestic_terrorism.csv\"\n",
        "df_terrorism = pd.read_csv(path_csis_folder + terrorism_filename)\n",
        "\n",
        "# Only between 2016 and July 2020\n",
        "df_terrorism = df_terrorism.query(\"Year_csis >= 2016 and Year_csis <= 2020\")\n",
        "df_terrorism[df_terrorism['Year_csis'] == 2020] = df_terrorism.query(\n",
        "                        'Year_csis == 2020 and Month_csis <= 3')\n",
        "\n",
        "# Getting rid of invalid values\n",
        "df_terrorism = df_terrorism[df_terrorism['Day_csis'] != 0]\n",
        "df_terrorism['Month_csis'].value_counts(dropna=False)\n",
        "cols=[\"Year_csis\",\"Month_csis\",\"Day_csis\"]\n",
        "df_terrorism.dropna(subset = cols, inplace = True)\n",
        "\n",
        "\n",
        "\n",
        "df_terrorism[\"Year_csis\"] = df_terrorism[\"Year_csis\"].astype(int)\n",
        "df_terrorism[\"Month_csis\"] = df_terrorism[\"Month_csis\"].astype(int)\n",
        "df_terrorism[\"Day_csis\"] = df_terrorism[\"Day_csis\"].astype(int)\n",
        "\n",
        "df_terrorism['date'] = df_terrorism[cols].apply(lambda x: '-'.join(\n",
        "                            x.values.astype(str)), axis=\"columns\")\n",
        "\t\n",
        "df_terrorism['date']=pd.to_datetime(df_terrorism['date'])\n",
        "\n",
        "\n",
        "df_terrorism"
      ],
      "metadata": {
        "colab": {
          "base_uri": "https://localhost:8080/",
          "height": 748
        },
        "id": "mn3fv8Wz-tBg",
        "outputId": "050a0e5c-24bf-4333-9a41-54d6c7fc4e8d"
      },
      "execution_count": 33,
      "outputs": [
        {
          "output_type": "execute_result",
          "data": {
            "text/html": [
              "\n",
              "  <div id=\"df-72fa8163-bdd6-4186-9a85-8a8554a8def1\">\n",
              "    <div class=\"colab-df-container\">\n",
              "      <div>\n",
              "<style scoped>\n",
              "    .dataframe tbody tr th:only-of-type {\n",
              "        vertical-align: middle;\n",
              "    }\n",
              "\n",
              "    .dataframe tbody tr th {\n",
              "        vertical-align: top;\n",
              "    }\n",
              "\n",
              "    .dataframe thead th {\n",
              "        text-align: right;\n",
              "    }\n",
              "</style>\n",
              "<table border=\"1\" class=\"dataframe\">\n",
              "  <thead>\n",
              "    <tr style=\"text-align: right;\">\n",
              "      <th></th>\n",
              "      <th>Year_csis</th>\n",
              "      <th>Month_csis</th>\n",
              "      <th>Day_csis</th>\n",
              "      <th>State_csis</th>\n",
              "      <th>City_csis</th>\n",
              "      <th>Orientation_csis</th>\n",
              "      <th>vict_killed_csis</th>\n",
              "      <th>LE_status_csis</th>\n",
              "      <th>MIL_status_csis</th>\n",
              "      <th>Target_csis</th>\n",
              "      <th>Weapon_csis</th>\n",
              "      <th>Lat_csis</th>\n",
              "      <th>Long_csis</th>\n",
              "      <th>type_extremism_1</th>\n",
              "      <th>type_extremism_2</th>\n",
              "      <th>victim_category</th>\n",
              "      <th>victim_specific1</th>\n",
              "      <th>victim_specific2</th>\n",
              "      <th>susp_total</th>\n",
              "      <th>susp_hometown</th>\n",
              "      <th>susp_social_media_use</th>\n",
              "      <th>date</th>\n",
              "    </tr>\n",
              "  </thead>\n",
              "  <tbody>\n",
              "    <tr>\n",
              "      <th>20</th>\n",
              "      <td>2020</td>\n",
              "      <td>3</td>\n",
              "      <td>19</td>\n",
              "      <td>New Mexico</td>\n",
              "      <td>Kirtland Air Force Base</td>\n",
              "      <td>Violent Far-right</td>\n",
              "      <td>0.0</td>\n",
              "      <td>NaN</td>\n",
              "      <td>Active</td>\n",
              "      <td>Unknown</td>\n",
              "      <td>Firearms</td>\n",
              "      <td>35.054000</td>\n",
              "      <td>-106.533900</td>\n",
              "      <td>other</td>\n",
              "      <td>NaN</td>\n",
              "      <td>NaN</td>\n",
              "      <td>NaN</td>\n",
              "      <td>NaN</td>\n",
              "      <td>1.0</td>\n",
              "      <td>Albuquerque, NM</td>\n",
              "      <td>NaN</td>\n",
              "      <td>2020-03-19</td>\n",
              "    </tr>\n",
              "    <tr>\n",
              "      <th>32</th>\n",
              "      <td>2020</td>\n",
              "      <td>2</td>\n",
              "      <td>25</td>\n",
              "      <td>Washington</td>\n",
              "      <td>Seattle</td>\n",
              "      <td>Violent Far-right</td>\n",
              "      <td>0.0</td>\n",
              "      <td>NaN</td>\n",
              "      <td>NaN</td>\n",
              "      <td>Journalists and Media</td>\n",
              "      <td>Other</td>\n",
              "      <td>47.606200</td>\n",
              "      <td>-122.332000</td>\n",
              "      <td>white supremacist</td>\n",
              "      <td>NaN</td>\n",
              "      <td>group</td>\n",
              "      <td>jewish</td>\n",
              "      <td>media</td>\n",
              "      <td>4.0</td>\n",
              "      <td>Redmond, WA - Montgomery, TX - Spring Hill, FL...</td>\n",
              "      <td>various</td>\n",
              "      <td>2020-02-25</td>\n",
              "    </tr>\n",
              "    <tr>\n",
              "      <th>42</th>\n",
              "      <td>2020</td>\n",
              "      <td>1</td>\n",
              "      <td>14</td>\n",
              "      <td>Delaware</td>\n",
              "      <td>Newark</td>\n",
              "      <td>Violent Far-right</td>\n",
              "      <td>0.0</td>\n",
              "      <td>NaN</td>\n",
              "      <td>Veteran</td>\n",
              "      <td>Demonstrators</td>\n",
              "      <td>Firearms</td>\n",
              "      <td>39.683700</td>\n",
              "      <td>-75.749700</td>\n",
              "      <td>NaN</td>\n",
              "      <td>NaN</td>\n",
              "      <td>group</td>\n",
              "      <td>black</td>\n",
              "      <td>jewish</td>\n",
              "      <td>3.0</td>\n",
              "      <td>Newark, DE - Denton, MD</td>\n",
              "      <td>encrypted chats</td>\n",
              "      <td>2020-01-14</td>\n",
              "    </tr>\n",
              "    <tr>\n",
              "      <th>43</th>\n",
              "      <td>2020</td>\n",
              "      <td>1</td>\n",
              "      <td>15</td>\n",
              "      <td>Georgia</td>\n",
              "      <td>Silver Creek</td>\n",
              "      <td>Violent Far-right</td>\n",
              "      <td>0.0</td>\n",
              "      <td>NaN</td>\n",
              "      <td>NaN</td>\n",
              "      <td>Demonstrators</td>\n",
              "      <td>Firearms</td>\n",
              "      <td>34.175300</td>\n",
              "      <td>-85.160900</td>\n",
              "      <td>white supremacist</td>\n",
              "      <td>NaN</td>\n",
              "      <td>demonstration</td>\n",
              "      <td>social justice</td>\n",
              "      <td>NaN</td>\n",
              "      <td>3.0</td>\n",
              "      <td>Dalton, GA - Dacula, GA - Silver Creek, GA</td>\n",
              "      <td>encrypted chats</td>\n",
              "      <td>2020-01-15</td>\n",
              "    </tr>\n",
              "    <tr>\n",
              "      <th>44</th>\n",
              "      <td>2020</td>\n",
              "      <td>3</td>\n",
              "      <td>24</td>\n",
              "      <td>Missouri</td>\n",
              "      <td>Belton</td>\n",
              "      <td>Violent Far-right</td>\n",
              "      <td>0.0</td>\n",
              "      <td>NaN</td>\n",
              "      <td>Veteran</td>\n",
              "      <td>Other</td>\n",
              "      <td>Explosives and Incendiaries</td>\n",
              "      <td>38.815797</td>\n",
              "      <td>-94.535556</td>\n",
              "      <td>white supremacist</td>\n",
              "      <td>anti covid lockdown</td>\n",
              "      <td>building</td>\n",
              "      <td>jewish</td>\n",
              "      <td>black</td>\n",
              "      <td>1.0</td>\n",
              "      <td>Belton, MO</td>\n",
              "      <td>encrypted chats</td>\n",
              "      <td>2020-03-24</td>\n",
              "    </tr>\n",
              "    <tr>\n",
              "      <th>...</th>\n",
              "      <td>...</td>\n",
              "      <td>...</td>\n",
              "      <td>...</td>\n",
              "      <td>...</td>\n",
              "      <td>...</td>\n",
              "      <td>...</td>\n",
              "      <td>...</td>\n",
              "      <td>...</td>\n",
              "      <td>...</td>\n",
              "      <td>...</td>\n",
              "      <td>...</td>\n",
              "      <td>...</td>\n",
              "      <td>...</td>\n",
              "      <td>...</td>\n",
              "      <td>...</td>\n",
              "      <td>...</td>\n",
              "      <td>...</td>\n",
              "      <td>...</td>\n",
              "      <td>...</td>\n",
              "      <td>...</td>\n",
              "      <td>...</td>\n",
              "      <td>...</td>\n",
              "    </tr>\n",
              "    <tr>\n",
              "      <th>358</th>\n",
              "      <td>2016</td>\n",
              "      <td>10</td>\n",
              "      <td>27</td>\n",
              "      <td>Alabama</td>\n",
              "      <td>NaN</td>\n",
              "      <td>Violent Far-right</td>\n",
              "      <td>0.0</td>\n",
              "      <td>NaN</td>\n",
              "      <td>NaN</td>\n",
              "      <td>Government, Military, and Police</td>\n",
              "      <td>NaN</td>\n",
              "      <td>31.402627</td>\n",
              "      <td>-85.988207</td>\n",
              "      <td>anti government</td>\n",
              "      <td>conspiracy theorist</td>\n",
              "      <td>building</td>\n",
              "      <td>education</td>\n",
              "      <td>NaN</td>\n",
              "      <td>NaN</td>\n",
              "      <td>Douglas, Ga.</td>\n",
              "      <td>NaN</td>\n",
              "      <td>2016-10-27</td>\n",
              "    </tr>\n",
              "    <tr>\n",
              "      <th>359</th>\n",
              "      <td>2016</td>\n",
              "      <td>10</td>\n",
              "      <td>30</td>\n",
              "      <td>California</td>\n",
              "      <td>Ronaldo</td>\n",
              "      <td>Violent Far-right</td>\n",
              "      <td>0.0</td>\n",
              "      <td>NaN</td>\n",
              "      <td>NaN</td>\n",
              "      <td>Private Individuals</td>\n",
              "      <td>Melee</td>\n",
              "      <td>32.715300</td>\n",
              "      <td>-117.157000</td>\n",
              "      <td>anti muslim</td>\n",
              "      <td>NaN</td>\n",
              "      <td>individual</td>\n",
              "      <td>muslim</td>\n",
              "      <td>NaN</td>\n",
              "      <td>3.0</td>\n",
              "      <td>San Diego, CA</td>\n",
              "      <td>NaN</td>\n",
              "      <td>2016-10-30</td>\n",
              "    </tr>\n",
              "    <tr>\n",
              "      <th>360</th>\n",
              "      <td>2016</td>\n",
              "      <td>11</td>\n",
              "      <td>10</td>\n",
              "      <td>Pennsylvania</td>\n",
              "      <td>Philadelphia</td>\n",
              "      <td>Violent Far-right</td>\n",
              "      <td>0.0</td>\n",
              "      <td>NaN</td>\n",
              "      <td>NaN</td>\n",
              "      <td>Private Individuals</td>\n",
              "      <td>Melee</td>\n",
              "      <td>40.038200</td>\n",
              "      <td>-75.344600</td>\n",
              "      <td>white supremacist</td>\n",
              "      <td>NaN</td>\n",
              "      <td>individual</td>\n",
              "      <td>black</td>\n",
              "      <td>NaN</td>\n",
              "      <td>NaN</td>\n",
              "      <td>NaN</td>\n",
              "      <td>NaN</td>\n",
              "      <td>2016-11-10</td>\n",
              "    </tr>\n",
              "    <tr>\n",
              "      <th>361</th>\n",
              "      <td>2016</td>\n",
              "      <td>11</td>\n",
              "      <td>23</td>\n",
              "      <td>New Mexico</td>\n",
              "      <td>Albuquerque</td>\n",
              "      <td>Violent Far-right</td>\n",
              "      <td>0.0</td>\n",
              "      <td>NaN</td>\n",
              "      <td>NaN</td>\n",
              "      <td>Business</td>\n",
              "      <td>Explosives and Incendiaries</td>\n",
              "      <td>35.091952</td>\n",
              "      <td>-106.586558</td>\n",
              "      <td>other</td>\n",
              "      <td>NaN</td>\n",
              "      <td>building</td>\n",
              "      <td>NaN</td>\n",
              "      <td>NaN</td>\n",
              "      <td>NaN</td>\n",
              "      <td>NaN</td>\n",
              "      <td>NaN</td>\n",
              "      <td>2016-11-23</td>\n",
              "    </tr>\n",
              "    <tr>\n",
              "      <th>362</th>\n",
              "      <td>2016</td>\n",
              "      <td>12</td>\n",
              "      <td>5</td>\n",
              "      <td>New York</td>\n",
              "      <td>New York City</td>\n",
              "      <td>Violent Far-right</td>\n",
              "      <td>0.0</td>\n",
              "      <td>NaN</td>\n",
              "      <td>NaN</td>\n",
              "      <td>Private Individuals</td>\n",
              "      <td>Melee</td>\n",
              "      <td>40.753200</td>\n",
              "      <td>-73.976500</td>\n",
              "      <td>anti muslim</td>\n",
              "      <td>NaN</td>\n",
              "      <td>individual</td>\n",
              "      <td>muslim</td>\n",
              "      <td>NaN</td>\n",
              "      <td>NaN</td>\n",
              "      <td>NaN</td>\n",
              "      <td>NaN</td>\n",
              "      <td>2016-12-05</td>\n",
              "    </tr>\n",
              "  </tbody>\n",
              "</table>\n",
              "<p>237 rows × 22 columns</p>\n",
              "</div>\n",
              "      <button class=\"colab-df-convert\" onclick=\"convertToInteractive('df-72fa8163-bdd6-4186-9a85-8a8554a8def1')\"\n",
              "              title=\"Convert this dataframe to an interactive table.\"\n",
              "              style=\"display:none;\">\n",
              "        \n",
              "  <svg xmlns=\"http://www.w3.org/2000/svg\" height=\"24px\"viewBox=\"0 0 24 24\"\n",
              "       width=\"24px\">\n",
              "    <path d=\"M0 0h24v24H0V0z\" fill=\"none\"/>\n",
              "    <path d=\"M18.56 5.44l.94 2.06.94-2.06 2.06-.94-2.06-.94-.94-2.06-.94 2.06-2.06.94zm-11 1L8.5 8.5l.94-2.06 2.06-.94-2.06-.94L8.5 2.5l-.94 2.06-2.06.94zm10 10l.94 2.06.94-2.06 2.06-.94-2.06-.94-.94-2.06-.94 2.06-2.06.94z\"/><path d=\"M17.41 7.96l-1.37-1.37c-.4-.4-.92-.59-1.43-.59-.52 0-1.04.2-1.43.59L10.3 9.45l-7.72 7.72c-.78.78-.78 2.05 0 2.83L4 21.41c.39.39.9.59 1.41.59.51 0 1.02-.2 1.41-.59l7.78-7.78 2.81-2.81c.8-.78.8-2.07 0-2.86zM5.41 20L4 18.59l7.72-7.72 1.47 1.35L5.41 20z\"/>\n",
              "  </svg>\n",
              "      </button>\n",
              "      \n",
              "  <style>\n",
              "    .colab-df-container {\n",
              "      display:flex;\n",
              "      flex-wrap:wrap;\n",
              "      gap: 12px;\n",
              "    }\n",
              "\n",
              "    .colab-df-convert {\n",
              "      background-color: #E8F0FE;\n",
              "      border: none;\n",
              "      border-radius: 50%;\n",
              "      cursor: pointer;\n",
              "      display: none;\n",
              "      fill: #1967D2;\n",
              "      height: 32px;\n",
              "      padding: 0 0 0 0;\n",
              "      width: 32px;\n",
              "    }\n",
              "\n",
              "    .colab-df-convert:hover {\n",
              "      background-color: #E2EBFA;\n",
              "      box-shadow: 0px 1px 2px rgba(60, 64, 67, 0.3), 0px 1px 3px 1px rgba(60, 64, 67, 0.15);\n",
              "      fill: #174EA6;\n",
              "    }\n",
              "\n",
              "    [theme=dark] .colab-df-convert {\n",
              "      background-color: #3B4455;\n",
              "      fill: #D2E3FC;\n",
              "    }\n",
              "\n",
              "    [theme=dark] .colab-df-convert:hover {\n",
              "      background-color: #434B5C;\n",
              "      box-shadow: 0px 1px 3px 1px rgba(0, 0, 0, 0.15);\n",
              "      filter: drop-shadow(0px 1px 2px rgba(0, 0, 0, 0.3));\n",
              "      fill: #FFFFFF;\n",
              "    }\n",
              "  </style>\n",
              "\n",
              "      <script>\n",
              "        const buttonEl =\n",
              "          document.querySelector('#df-72fa8163-bdd6-4186-9a85-8a8554a8def1 button.colab-df-convert');\n",
              "        buttonEl.style.display =\n",
              "          google.colab.kernel.accessAllowed ? 'block' : 'none';\n",
              "\n",
              "        async function convertToInteractive(key) {\n",
              "          const element = document.querySelector('#df-72fa8163-bdd6-4186-9a85-8a8554a8def1');\n",
              "          const dataTable =\n",
              "            await google.colab.kernel.invokeFunction('convertToInteractive',\n",
              "                                                     [key], {});\n",
              "          if (!dataTable) return;\n",
              "\n",
              "          const docLinkHtml = 'Like what you see? Visit the ' +\n",
              "            '<a target=\"_blank\" href=https://colab.research.google.com/notebooks/data_table.ipynb>data table notebook</a>'\n",
              "            + ' to learn more about interactive tables.';\n",
              "          element.innerHTML = '';\n",
              "          dataTable['output_type'] = 'display_data';\n",
              "          await google.colab.output.renderOutput(dataTable, element);\n",
              "          const docLink = document.createElement('div');\n",
              "          docLink.innerHTML = docLinkHtml;\n",
              "          element.appendChild(docLink);\n",
              "        }\n",
              "      </script>\n",
              "    </div>\n",
              "  </div>\n",
              "  "
            ],
            "text/plain": [
              "     Year_csis  Month_csis  ...  susp_social_media_use       date\n",
              "20        2020           3  ...                    NaN 2020-03-19\n",
              "32        2020           2  ...                various 2020-02-25\n",
              "42        2020           1  ...        encrypted chats 2020-01-14\n",
              "43        2020           1  ...        encrypted chats 2020-01-15\n",
              "44        2020           3  ...        encrypted chats 2020-03-24\n",
              "..         ...         ...  ...                    ...        ...\n",
              "358       2016          10  ...                    NaN 2016-10-27\n",
              "359       2016          10  ...                    NaN 2016-10-30\n",
              "360       2016          11  ...                    NaN 2016-11-10\n",
              "361       2016          11  ...                    NaN 2016-11-23\n",
              "362       2016          12  ...                    NaN 2016-12-05\n",
              "\n",
              "[237 rows x 22 columns]"
            ]
          },
          "metadata": {},
          "execution_count": 33
        }
      ]
    },
    {
      "cell_type": "code",
      "source": [
        "print(\"Orientation of attacks:\\n\", df_terrorism['Orientation_csis'].value_counts(dropna = False))\n",
        "print(\"\\n\\nMotivations:\\n\", df_terrorism['type_extremism_1'].value_counts(dropna = False))"
      ],
      "metadata": {
        "colab": {
          "base_uri": "https://localhost:8080/"
        },
        "id": "vWlSTl5B-12w",
        "outputId": "aca78d63-b2ae-42b5-f102-fed0c3bedf37"
      },
      "execution_count": 25,
      "outputs": [
        {
          "output_type": "stream",
          "name": "stdout",
          "text": [
            "Orientation of attacks:\n",
            " Violent Far-right    179\n",
            "Religious             54\n",
            "Violent Far-left      42\n",
            "Other                  5\n",
            "Ethnonationalist       2\n",
            "Name: Orientation_csis, dtype: int64\n",
            "\n",
            "\n",
            "Motivations:\n",
            " NaN                    105\n",
            "white supremacist       54\n",
            "anti muslim             26\n",
            "anti semitic            18\n",
            "anti government         15\n",
            "racist                  12\n",
            "anti blm                12\n",
            "anti immigrant           8\n",
            "anti abortion            7\n",
            "other                    6\n",
            "anti lgbtq               6\n",
            "incel                    4\n",
            "anti covid lockdown      2\n",
            "anti police              2\n",
            "conspiracy theorist      2\n",
            "anti asian               2\n",
            "anti left                1\n",
            "Name: type_extremism_1, dtype: int64\n"
          ]
        }
      ]
    },
    {
      "cell_type": "code",
      "source": [
        "df_terrorism[\"date\"] = (df_terrorism[\"date\"].astype(\"datetime64\"))\n",
        "\n",
        "df_terrorism_far_right = df_terrorism.query(\"Orientation_csis == 'Violent Far-right'\")\n",
        "df_terrorism_far_left = df_terrorism.query(\"Orientation_csis == 'Violent Far-left'\")\n",
        "\n",
        "month_groups_terrorism = df_terrorism.groupby([df_terrorism['Year_csis'],df_terrorism['Month_csis']]\n",
        "                          ).size()\n",
        "\n",
        "month_groups.plot(kind='bar',figsize=(15,7),legend=None)\n",
        "plt.xlabel(\"Year, Month\")\n",
        "plt.ylabel(\"Number of attacks\")\n",
        "plt.show()"
      ],
      "metadata": {
        "colab": {
          "base_uri": "https://localhost:8080/",
          "height": 463
        },
        "id": "WEId_Bwa-5kc",
        "outputId": "caf4a34d-cd3b-4530-e03f-514932e0b71d"
      },
      "execution_count": 34,
      "outputs": [
        {
          "output_type": "display_data",
          "data": {
            "image/png": "[encoded data removed]",
            "text/plain": [
              "<Figure size 1080x504 with 1 Axes>"
            ]
          },
          "metadata": {
            "needs_background": "light"
          }
        }
      ]
    },
    {
      "cell_type": "code",
      "source": [
        "month_groups_left = df_terrorism_far_left.groupby([df_terrorism_far_left['Year_csis'],\n",
        "                          df_terrorism_far_left['Month_csis']]).size()\n",
        "\n",
        "df_terrorism_far_right = df_terrorism.query(\"Orientation_csis == 'Violent Far-right'\")\n",
        "month_groups_right = df_terrorism_far_right.groupby([df_terrorism_far_right['Year_csis'],\n",
        "                          df_terrorism_far_right['Month_csis']]).size()\n",
        "\n",
        "month_groups_left.plot(kind='bar',figsize=(15,7),label='Left', color = 'r', alpha = 0.5)\n",
        "month_groups_right.plot(kind='bar',figsize=(15,7),label='Right', color = 'b', alpha = 0.5)\n",
        "\n",
        "\n",
        "\n",
        "#month_groups_right.plot(kind='bar',figsize=(15,7),legend=None)\n",
        "#plt.hist([month_groups_right, month_groups_left], label = ['Far-right violence', 'Far-left violence'])\n",
        "plt.legend()\n",
        "plt.suptitle(\"test\")\n",
        "plt.xlabel(\"Year, Month\")\n",
        "plt.ylabel(\"Number of attacks\")\n",
        "plt.show()"
      ],
      "metadata": {
        "id": "iG7txsJj-8Mf",
        "outputId": "8b7c45ae-8ac5-4565-d73f-df3732a6a3b5",
        "colab": {
          "base_uri": "https://localhost:8080/",
          "height": 516
        }
      },
      "execution_count": 35,
      "outputs": [
        {
          "output_type": "display_data",
          "data": {
            "image/png": "[encoded data removed]",
            "text/plain": [
              "<Figure size 1080x504 with 1 Axes>"
            ]
          },
          "metadata": {
            "needs_background": "light"
          }
        }
      ]
    },
    {
      "cell_type": "markdown",
      "source": [
        "### 1.5 Study of correlation between hate speech in the media and violent attacks in the US"
      ],
      "metadata": {
        "id": "8mFRfz0WiI4P"
      }
    },
    {
      "cell_type": "code",
      "source": [
        "from scipy.stats import pearsonr\n",
        "from scipy.stats import spearmanr\n",
        "path = '/content/drive/Shareddrives/Ada-The data collectivists/data/'\n",
        "path_SF = path + 'df_SF/'\n",
        "\n",
        "df = pd.read_csv(path_SF + 'df_SF.csv')"
      ],
      "metadata": {
        "id": "UDjj8SLkiGl4"
      },
      "execution_count": 28,
      "outputs": []
    },
    {
      "cell_type": "markdown",
      "source": [
        "Before analyzing any correlation between the quotes appearances and the timeline of violent events, let's visualize the sentiment of the selected quotes with VaderSentiment"
      ],
      "metadata": {
        "id": "ce_saRpzijTt"
      }
    },
    {
      "cell_type": "code",
      "source": [
        "#Sentiment analysis\n",
        "\n",
        "import vaderSentiment\n",
        "from vaderSentiment.vaderSentiment import SentimentIntensityAnalyzer\n",
        "\n",
        "analyzer = SentimentIntensityAnalyzer()\n",
        "df_sentiment = df.copy()\n",
        "df_sentiment['compound_sentiment'] = df_sentiment['quotation'].map(lambda x: analyzer.polarity_scores(x)['compound'])\n",
        "df['compound_sentiment'] = df['quotation'].map(lambda x: analyzer.polarity_scores(x)['compound'])\n",
        "\n",
        "scores = df_sentiment['compound_sentiment'].to_numpy()\n",
        "sns.histplot(data = scores)\n",
        "plt.suptitle(\"Sentiment score on the quotes labeled as hateful\")\n",
        "plt.show()\n",
        "df = df.query(\"compound_sentiment < -0.1\")\n",
        "len(df)"
      ],
      "metadata": {
        "colab": {
          "base_uri": "https://localhost:8080/",
          "height": 313
        },
        "id": "2qa3bsbAiPs6",
        "outputId": "fff754e7-7fb5-4cd6-bea4-deb44d26bdae"
      },
      "execution_count": 29,
      "outputs": [
        {
          "output_type": "display_data",
          "data": {
            "image/png": "[encoded data removed]",
            "text/plain": [
              "<Figure size 432x288 with 1 Axes>"
            ]
          },
          "metadata": {
            "needs_background": "light"
          }
        },
        {
          "output_type": "execute_result",
          "data": {
            "text/plain": [
              "628"
            ]
          },
          "metadata": {},
          "execution_count": 29
        }
      ]
    },
    {
      "cell_type": "code",
      "source": [
        "\n",
        "df_terrorism_far_right = df_terrorism.query(\"Orientation_csis == 'Violent Far-right'\")\n",
        "month_groups_terrorism = df_terrorism_far_right.groupby([df_terrorism_far_right['Year_csis'],\n",
        "                          df_terrorism_far_right['Month_csis']]).size()\n",
        "\n",
        "\n",
        "df['year'] = pd.DatetimeIndex(df['date']).year\n",
        "df['month'] = pd.DatetimeIndex(df['date']).month\n",
        "\n",
        "hate_count = pd.DataFrame(df.groupby([df['year'],df['month']]).size()).reset_index()\n",
        "hate_count.columns = ['year', 'month', 'count']\n",
        "\n",
        "\n",
        "# Adding zeros to month where zero hate quotes have been labeled\n",
        "def add_zeros(df):\n",
        "  out = df.copy()\n",
        "  out.columns = ['year', 'month', 'count']\n",
        "  months = np.arange(1,13)\n",
        "  years = np.arange(2016,2020)\n",
        "  for year in years:\n",
        "    for month in months:\n",
        "      if len(out.query(\"year == @year and month == @month\")) == 0:\n",
        "        row = {'year':year, 'month':month,'count':0}\n",
        "        out = out.append(row, ignore_index = True)\n",
        "\n",
        "\n",
        "  out = out.sort_values(by = ['year', 'month'])\n",
        "  return out\n",
        "\n",
        "\n",
        "df_terro = pd.DataFrame(month_groups_terrorism).reset_index()\n",
        "df_terro = df_terro.iloc[:, -3:]\n",
        "df_terro = add_zeros(df_terro)\n",
        "df_hate = add_zeros(hate_count)\n",
        "\n",
        "\n",
        "pcorr, _ = pearsonr(df_terro['count'], df_hate['count'])\n",
        "scorr, _ = spearmanr(df_terro['count'], df_hate['count'])\n",
        "print('The pearson correlation yields : ', pcorr)\n",
        "print('The spearman correlation yields : ', scorr)"
      ],
      "metadata": {
        "colab": {
          "base_uri": "https://localhost:8080/"
        },
        "id": "Rj5_jPeJi6GI",
        "outputId": "de9799fb-4e25-4915-9ca4-0846a0e1a1f2"
      },
      "execution_count": 38,
      "outputs": [
        {
          "output_type": "stream",
          "name": "stdout",
          "text": [
            "The pearson correlation yields :  -0.001988348016584873\n",
            "The spearman correlation yields :  0.01922312758823093\n"
          ]
        }
      ]
    },
    {
      "cell_type": "code",
      "source": [
        "\n",
        "df_terrorism_far_right = df_terrorism.query(\"Orientation_csis == 'Violent Far-right'\")\n",
        "month_groups_right = df_terrorism_far_right.groupby([df_terrorism_far_right['Year_csis'],\n",
        "                          df_terrorism_far_right['Month_csis']]).size()\n",
        "\n",
        "\n",
        "month_groups_terrorism = df_terrorism_far_right.groupby([df_terrorism_far_right['Year_csis'],\n",
        "                          df_terrorism_far_right['Month_csis']]).size()\n",
        "\n",
        "month_groups_hate = df.groupby([df['year'],\n",
        "                          df['month']]).size()\n",
        "\n",
        "month_groups_right.plot(kind='bar',figsize=(15,7),label='Domestic terrorist attacks', color = 'r', alpha = 0.5)\n",
        "month_groups_hate.plot(kind='bar',figsize=(15,7),label='Hateful quotes per month', color = 'b', alpha = 0.5)\n",
        "plt.legend()\n",
        "plt.suptitle('Domestic far-right terrorist attacks on US soil, ')"
      ],
      "metadata": {
        "colab": {
          "base_uri": "https://localhost:8080/",
          "height": 543
        },
        "id": "CO3qukNeim0z",
        "outputId": "58979f12-2207-4f19-8bf8-ad07d81972e0"
      },
      "execution_count": 37,
      "outputs": [
        {
          "output_type": "execute_result",
          "data": {
            "text/plain": [
              "Text(0.5, 0.98, 'Domestic far-right terrorist attacks on US soil, ')"
            ]
          },
          "metadata": {},
          "execution_count": 37
        },
        {
          "output_type": "display_data",
          "data": {
            "image/png": "[encoded data removed]",
            "text/plain": [
              "<Figure size 1080x504 with 1 Axes>"
            ]
          },
          "metadata": {
            "needs_background": "light"
          }
        }
      ]
    }
  ],
  "metadata": {
    "accelerator": "GPU",
    "colab": {
      "collapsed_sections": [],
      "name": "ADA_Project.ipynb",
      "provenance": [],
      "toc_visible": true
    },
    "kernelspec": {
      "display_name": "Python 3 (ipykernel)",
      "language": "python",
      "name": "python3"
    },
    "language_info": {
      "codemirror_mode": {
        "name": "ipython",
        "version": 3
      },
      "file_extension": ".py",
      "mimetype": "text/x-python",
      "name": "python",
      "nbconvert_exporter": "python",
      "pygments_lexer": "ipython3",
      "version": "3.9.7"
    }
  },
  "nbformat": 4,
  "nbformat_minor": 0
}